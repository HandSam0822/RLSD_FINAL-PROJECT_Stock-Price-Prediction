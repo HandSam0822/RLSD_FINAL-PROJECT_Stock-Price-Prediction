{
 "cells": [
  {
   "cell_type": "code",
   "execution_count": 1,
   "metadata": {},
   "outputs": [],
   "source": [
    "import pandas as pd\n",
    "import numpy as np\n",
    "import matplotlib.pyplot as plt\n",
    "import re\n",
    "import jieba\n",
    "from sklearn.feature_extraction.text import CountVectorizer"
   ]
  },
  {
   "cell_type": "markdown",
   "metadata": {},
   "source": [
    "讀取的檔案，已經涵蓋了新聞的正負面屬性，今天我們希望找出每篇新聞的關鍵字  \n",
    "因此除了要做結巴切詞之外，同時也希望得到tf-idf等等資訊  \n",
    "不過再這之前，我們希望對新聞資訊做一些處理(處理亂碼、標點符號、停用詞等等)  \n",
    "更進階一點，為了讓結巴切的準確一些，我們可以新增字典，讓結巴沒看過的詞彙也分的出來   "
   ]
  },
  {
   "cell_type": "code",
   "execution_count": 2,
   "metadata": {},
   "outputs": [],
   "source": [
    "LARGAN_PRICE = pd.read_csv('/Users/liaoshousan/Desktop/大四上/R語言與資料科學導論/Final_PROJECT-StockPrice Prediction/已經標記的股價/LARGAN_Stock.csv')\n",
    "Foxconn_PRICE = pd.read_csv('/Users/liaoshousan/Desktop/大四上/R語言與資料科學導論/Final_PROJECT-StockPrice Prediction/已經標記的股價/Foxconn_Stock.csv')\n",
    "TSMC_PRICE = pd.read_csv('/Users/liaoshousan/Desktop/大四上/R語言與資料科學導論/Final_PROJECT-StockPrice Prediction/已經標記的股價/TSMC_Stock.csv')\n",
    "\n",
    "\n",
    "LARGAN_NEWS = pd.read_csv('/Users/liaoshousan/Desktop/大四上/R語言與資料科學導論/Final_PROJECT-StockPrice Prediction/已經標記的新聞/LARGAN_NEWS.csv')\n",
    "Foxconn_NEWS = pd.read_csv('/Users/liaoshousan/Desktop/大四上/R語言與資料科學導論/Final_PROJECT-StockPrice Prediction/已經標記的新聞/Foxconn_NEWS.csv')\n",
    "TSMC_NEWS = pd.read_csv('/Users/liaoshousan/Desktop/大四上/R語言與資料科學導論/Final_PROJECT-StockPrice Prediction/已經標記的新聞/TSMC_NEWS.csv')\n",
    "\n"
   ]
  },
  {
   "cell_type": "code",
   "execution_count": 3,
   "metadata": {},
   "outputs": [
    {
     "data": {
      "text/html": [
       "<div>\n",
       "<style scoped>\n",
       "    .dataframe tbody tr th:only-of-type {\n",
       "        vertical-align: middle;\n",
       "    }\n",
       "\n",
       "    .dataframe tbody tr th {\n",
       "        vertical-align: top;\n",
       "    }\n",
       "\n",
       "    .dataframe thead th {\n",
       "        text-align: right;\n",
       "    }\n",
       "</style>\n",
       "<table border=\"1\" class=\"dataframe\">\n",
       "  <thead>\n",
       "    <tr style=\"text-align: right;\">\n",
       "      <th></th>\n",
       "      <th>TITLE</th>\n",
       "      <th>TIME</th>\n",
       "      <th>DESCRIPTION</th>\n",
       "      <th>CONTENT</th>\n",
       "      <th>year</th>\n",
       "      <th>month</th>\n",
       "      <th>day</th>\n",
       "      <th>hour</th>\n",
       "      <th>status</th>\n",
       "    </tr>\n",
       "  </thead>\n",
       "  <tbody>\n",
       "    <tr>\n",
       "      <td>0</td>\n",
       "      <td>台積電ADR飆新高 台股聚焦科技股</td>\n",
       "      <td>2019-12-12</td>\n",
       "      <td>美國聯準會（Fed）維持利率不變，且暗示2020年不會升息，費半大漲，台積電ADR大漲2.5...</td>\n",
       "      <td>台積電。路透 分享   facebook      \\n美國聯準會（Fed）維持利率不變，且...</td>\n",
       "      <td>2019</td>\n",
       "      <td>12</td>\n",
       "      <td>12</td>\n",
       "      <td>0</td>\n",
       "      <td>0</td>\n",
       "    </tr>\n",
       "    <tr>\n",
       "      <td>1</td>\n",
       "      <td>台股驚驚漲誰是顧大盤？ 顧立雄這麼說</td>\n",
       "      <td>2019-12-12</td>\n",
       "      <td>立委羅明才今（12）日上午在立法院財委會表示，台股大盤出現一個令人驚奇的發展，現在加權指數漲...</td>\n",
       "      <td>金管會主委顧立雄。本報資料照片 分享   facebook      \\n立委羅明才今（12...</td>\n",
       "      <td>2019</td>\n",
       "      <td>12</td>\n",
       "      <td>12</td>\n",
       "      <td>0</td>\n",
       "      <td>0</td>\n",
       "    </tr>\n",
       "    <tr>\n",
       "      <td>2</td>\n",
       "      <td>台積電飆328元歷史天價 台股大漲百點站上11,800點</td>\n",
       "      <td>2019-12-12</td>\n",
       "      <td>台股今（12）日跳空，再創29年半新高，台股開盤上漲66.18點，開在11,766.98點，...</td>\n",
       "      <td>台股示意圖。 本報資料照片 分享   facebook      \\n台股今（12）日跳空，...</td>\n",
       "      <td>2019</td>\n",
       "      <td>12</td>\n",
       "      <td>12</td>\n",
       "      <td>0</td>\n",
       "      <td>0</td>\n",
       "    </tr>\n",
       "    <tr>\n",
       "      <td>3</td>\n",
       "      <td>黃崇仁連任TwIoTA理事長 將擴大AI、5G、IoT跨產業交流</td>\n",
       "      <td>2019-12-11</td>\n",
       "      <td>台灣物聯網產業技術協會（TwIoTA）今天舉辦第二屆第一次會員大會，並改選理監事，由力晶集團...</td>\n",
       "      <td>台灣物聯網產業技術協會（TwIoTA）今天舉辦第二屆第一次會員大會，並改選理監事，由力晶集團...</td>\n",
       "      <td>2019</td>\n",
       "      <td>12</td>\n",
       "      <td>11</td>\n",
       "      <td>0</td>\n",
       "      <td>0</td>\n",
       "    </tr>\n",
       "    <tr>\n",
       "      <td>4</td>\n",
       "      <td>外資：半導體股漲到下季</td>\n",
       "      <td>2019-12-12</td>\n",
       "      <td>台積電昨（11）日領軍半導體股，率台股強攻11,700點大關。外資野村、?豐發布最新分析報告...</td>\n",
       "      <td>台積電昨（11）日領軍半導體股，率台股強攻11,700點大關。外資野村、?豐發布最新分析報告...</td>\n",
       "      <td>2019</td>\n",
       "      <td>12</td>\n",
       "      <td>12</td>\n",
       "      <td>0</td>\n",
       "      <td>0</td>\n",
       "    </tr>\n",
       "    <tr>\n",
       "      <td>...</td>\n",
       "      <td>...</td>\n",
       "      <td>...</td>\n",
       "      <td>...</td>\n",
       "      <td>...</td>\n",
       "      <td>...</td>\n",
       "      <td>...</td>\n",
       "      <td>...</td>\n",
       "      <td>...</td>\n",
       "      <td>...</td>\n",
       "    </tr>\n",
       "    <tr>\n",
       "      <td>6643</td>\n",
       "      <td>李家同談金大事件：學生對學校有驕傲感 就不會發生</td>\n",
       "      <td>2017-06-21</td>\n",
       "      <td>清華大學榮譽教授李家同6月初應邀出席金大畢業典禮，因致詞時台下學生進進出出，李直接在台上批評...</td>\n",
       "      <td>李家同日前受邀金門大學畢典。報系資料照 分享   facebook     清華大學榮譽教授...</td>\n",
       "      <td>2017</td>\n",
       "      <td>6</td>\n",
       "      <td>21</td>\n",
       "      <td>0</td>\n",
       "      <td>0</td>\n",
       "    </tr>\n",
       "    <tr>\n",
       "      <td>6644</td>\n",
       "      <td>交大力推會呼吸的房子 新竹市長林智堅大為讚賞</td>\n",
       "      <td>2017-06-26</td>\n",
       "      <td>新竹市長林智堅今天參加交通大學跨領域設計科學中心舉辦「瓶中的小太陽─永續能源工作坊」活動，對...</td>\n",
       "      <td>新竹市長林智堅今天參加交通大學跨領域設計科學中心舉辦「瓶中的小太陽─永續能源工作坊」活動，對...</td>\n",
       "      <td>2017</td>\n",
       "      <td>6</td>\n",
       "      <td>26</td>\n",
       "      <td>0</td>\n",
       "      <td>0</td>\n",
       "    </tr>\n",
       "    <tr>\n",
       "      <td>6645</td>\n",
       "      <td>好美！屏東「柚園辦工作坊」手作復育螢火蟲棲地</td>\n",
       "      <td>2017-03-04</td>\n",
       "      <td>屏東麟洛鄉的柚園生態農場17日、18日將舉辦「手作螢火蟲棲地復育工作坊」，教大家如何復育螢火蟲</td>\n",
       "      <td>屏東麟洛鄉的柚園生態農場17日、18日將舉辦「手作螢火蟲棲地復育工作坊」，教大家如何復育螢火...</td>\n",
       "      <td>2017</td>\n",
       "      <td>3</td>\n",
       "      <td>4</td>\n",
       "      <td>0</td>\n",
       "      <td>0</td>\n",
       "    </tr>\n",
       "    <tr>\n",
       "      <td>6646</td>\n",
       "      <td>王茂臻／大老闆的生死課</td>\n",
       "      <td>2017-04-16</td>\n",
       "      <td>今年初，台泥前董事長辜成允因跌倒驟逝，震撼企業界，台積電董事長張忠謀撰文悼念辜成允時說：「冥...</td>\n",
       "      <td>美聯社、聯合報系資料照 分享   facebook     今年初，台泥前董事長辜成允因跌倒...</td>\n",
       "      <td>2017</td>\n",
       "      <td>4</td>\n",
       "      <td>16</td>\n",
       "      <td>0</td>\n",
       "      <td>0</td>\n",
       "    </tr>\n",
       "    <tr>\n",
       "      <td>6647</td>\n",
       "      <td>到法拉利上班不是夢！ 城市科大畢業生成超跑技師</td>\n",
       "      <td>2017-05-16</td>\n",
       "      <td>動輒千萬的超跑、頂級豪華車市場年年成長，城市科大與法拉利（Ferrari）與藍寶堅尼（Lam...</td>\n",
       "      <td>動輒千萬的超跑、頂級豪華車市場年年成長，城市科大與法拉利（Ferrari）與藍寶堅尼（Lam...</td>\n",
       "      <td>2017</td>\n",
       "      <td>5</td>\n",
       "      <td>16</td>\n",
       "      <td>0</td>\n",
       "      <td>0</td>\n",
       "    </tr>\n",
       "  </tbody>\n",
       "</table>\n",
       "<p>6648 rows × 9 columns</p>\n",
       "</div>"
      ],
      "text/plain": [
       "                                 TITLE        TIME  \\\n",
       "0                    台積電ADR飆新高 台股聚焦科技股  2019-12-12   \n",
       "1                   台股驚驚漲誰是顧大盤？ 顧立雄這麼說  2019-12-12   \n",
       "2         台積電飆328元歷史天價 台股大漲百點站上11,800點  2019-12-12   \n",
       "3     黃崇仁連任TwIoTA理事長 將擴大AI、5G、IoT跨產業交流  2019-12-11   \n",
       "4                          外資：半導體股漲到下季  2019-12-12   \n",
       "...                                ...         ...   \n",
       "6643          李家同談金大事件：學生對學校有驕傲感 就不會發生  2017-06-21   \n",
       "6644            交大力推會呼吸的房子 新竹市長林智堅大為讚賞  2017-06-26   \n",
       "6645            好美！屏東「柚園辦工作坊」手作復育螢火蟲棲地  2017-03-04   \n",
       "6646                       王茂臻／大老闆的生死課  2017-04-16   \n",
       "6647           到法拉利上班不是夢！ 城市科大畢業生成超跑技師  2017-05-16   \n",
       "\n",
       "                                            DESCRIPTION  \\\n",
       "0     美國聯準會（Fed）維持利率不變，且暗示2020年不會升息，費半大漲，台積電ADR大漲2.5...   \n",
       "1     立委羅明才今（12）日上午在立法院財委會表示，台股大盤出現一個令人驚奇的發展，現在加權指數漲...   \n",
       "2     台股今（12）日跳空，再創29年半新高，台股開盤上漲66.18點，開在11,766.98點，...   \n",
       "3     台灣物聯網產業技術協會（TwIoTA）今天舉辦第二屆第一次會員大會，並改選理監事，由力晶集團...   \n",
       "4     台積電昨（11）日領軍半導體股，率台股強攻11,700點大關。外資野村、?豐發布最新分析報告...   \n",
       "...                                                 ...   \n",
       "6643  清華大學榮譽教授李家同6月初應邀出席金大畢業典禮，因致詞時台下學生進進出出，李直接在台上批評...   \n",
       "6644  新竹市長林智堅今天參加交通大學跨領域設計科學中心舉辦「瓶中的小太陽─永續能源工作坊」活動，對...   \n",
       "6645    屏東麟洛鄉的柚園生態農場17日、18日將舉辦「手作螢火蟲棲地復育工作坊」，教大家如何復育螢火蟲   \n",
       "6646  今年初，台泥前董事長辜成允因跌倒驟逝，震撼企業界，台積電董事長張忠謀撰文悼念辜成允時說：「冥...   \n",
       "6647  動輒千萬的超跑、頂級豪華車市場年年成長，城市科大與法拉利（Ferrari）與藍寶堅尼（Lam...   \n",
       "\n",
       "                                                CONTENT  year  month  day  \\\n",
       "0     台積電。路透 分享   facebook      \\n美國聯準會（Fed）維持利率不變，且...  2019     12   12   \n",
       "1     金管會主委顧立雄。本報資料照片 分享   facebook      \\n立委羅明才今（12...  2019     12   12   \n",
       "2     台股示意圖。 本報資料照片 分享   facebook      \\n台股今（12）日跳空，...  2019     12   12   \n",
       "3     台灣物聯網產業技術協會（TwIoTA）今天舉辦第二屆第一次會員大會，並改選理監事，由力晶集團...  2019     12   11   \n",
       "4     台積電昨（11）日領軍半導體股，率台股強攻11,700點大關。外資野村、?豐發布最新分析報告...  2019     12   12   \n",
       "...                                                 ...   ...    ...  ...   \n",
       "6643  李家同日前受邀金門大學畢典。報系資料照 分享   facebook     清華大學榮譽教授...  2017      6   21   \n",
       "6644  新竹市長林智堅今天參加交通大學跨領域設計科學中心舉辦「瓶中的小太陽─永續能源工作坊」活動，對...  2017      6   26   \n",
       "6645  屏東麟洛鄉的柚園生態農場17日、18日將舉辦「手作螢火蟲棲地復育工作坊」，教大家如何復育螢火...  2017      3    4   \n",
       "6646  美聯社、聯合報系資料照 分享   facebook     今年初，台泥前董事長辜成允因跌倒...  2017      4   16   \n",
       "6647  動輒千萬的超跑、頂級豪華車市場年年成長，城市科大與法拉利（Ferrari）與藍寶堅尼（Lam...  2017      5   16   \n",
       "\n",
       "      hour  status  \n",
       "0        0       0  \n",
       "1        0       0  \n",
       "2        0       0  \n",
       "3        0       0  \n",
       "4        0       0  \n",
       "...    ...     ...  \n",
       "6643     0       0  \n",
       "6644     0       0  \n",
       "6645     0       0  \n",
       "6646     0       0  \n",
       "6647     0       0  \n",
       "\n",
       "[6648 rows x 9 columns]"
      ]
     },
     "execution_count": 3,
     "metadata": {},
     "output_type": "execute_result"
    }
   ],
   "source": [
    "TSMC_NEWS"
   ]
  },
  {
   "cell_type": "markdown",
   "metadata": {},
   "source": [
    "### 正則表達式把文章弄得好看一點"
   ]
  },
  {
   "cell_type": "code",
   "execution_count": 4,
   "metadata": {},
   "outputs": [
    {
     "name": "stderr",
     "output_type": "stream",
     "text": [
      "Building prefix dict from the default dictionary ...\n",
      "Loading model from cache /var/folders/fw/yrm4dfxx35d5v8qp2gntf8100000gn/T/jieba.cache\n",
      "Loading model cost 2.637 seconds.\n",
      "Prefix dict has been built succesfully.\n"
     ]
    }
   ],
   "source": [
    "add_word_list = pd.read_table(\"/Users/liaoshousan/Desktop/大四上/R語言與資料科學導論/Final_PROJECT-StockPrice Prediction/Jieba自定義字典/TSMC_Dict.txt\",header=None)\n",
    "add_word_list.columns = ['vocab']\n",
    "add_word_list = list(add_word_list['vocab'])\n",
    "for i in add_word_list:\n",
    "    jieba.add_word(i)\n",
    "    "
   ]
  },
  {
   "cell_type": "markdown",
   "metadata": {},
   "source": [
    "## 找出正面新聞的重要詞彙"
   ]
  },
  {
   "cell_type": "code",
   "execution_count": null,
   "metadata": {},
   "outputs": [],
   "source": [
    "upnews = TSMC_NEWS[TSMC_NEWS['status']==1]\n",
    "allnews = TSMC_NEWS['CONTENT']\n",
    "downnews = TSMC_NEWS[TSMC_NEWS['status']==-1]\n",
    "   \n",
    "positive_token = []\n",
    "for goodnews in upnews['CONTENT']:\n",
    "    goodnews = re.sub(r'[。，（）_?\\d]','',goodnews)\n",
    "    #這邊想再加一行過濾亂碼的條件，但是還沒搞懂\n",
    "    seg_list = jieba.cut(goodnews)\n",
    "    token = ' '.join(seg_list)\n",
    "    positive_token.append(token)\n",
    "\n",
    "count_vec_pos = CountVectorizer()\n",
    "good_news_count = count_vec_pos.fit_transform(positive_token)\n",
    "good_news_corpus = count_vec_pos.get_feature_names() \n",
    "good_news_count = pd.DataFrame(good_news_count.toarray(),columns = good_news_corpus)\n",
    "\n",
    "#-----------------------------\n",
    "\n",
    "all_token = []\n",
    "for all_news in allnews:\n",
    "    all_news = re.sub(r'[。，（）_?\\d]','',all_news)\n",
    "    seg_list = jieba.cut(all_news)\n",
    "    token = ' '.join(seg_list)\n",
    "    all_token.append(token)\n",
    "   \n",
    "count_vec_all_pos_vocab = CountVectorizer(vocabulary=good_news_corpus)\n",
    "all_news_count_pos = count_vec_all_pos_vocab.fit_transform(all_token)\n",
    "all_news_count_pos = pd.DataFrame(all_news_count_pos.toarray(),columns = good_news_corpus)\n",
    "    \n",
    "#-----------------------------\n",
    "\n",
    "negative_token = []\n",
    "for badnews in downnews['CONTENT']:\n",
    "    badnews = re.sub(r'[。，（）_?\\d]','',badnews)\n",
    "    seg_list = jieba.cut(badnews)\n",
    "    token = ' '.join(seg_list)\n",
    "    negative_token.append(token)\n",
    "\n",
    "count_vec_neg = CountVectorizer()\n",
    "bad_news_count = count_vec_neg.fit_transform(negative_token)\n",
    "bad_news_corpus = count_vec_neg.get_feature_names() \n",
    "bad_news_count = pd.DataFrame(bad_news_count.toarray(),columns = bad_news_corpus)\n",
    "\n",
    "#-----------------------------\n",
    "   \n",
    "count_vec_all_neg_vocab = CountVectorizer(vocabulary=bad_news_corpus)\n",
    "all_news_count_neg = count_vec_all_neg_vocab.fit_transform(all_token)\n",
    "all_news_count_neg = pd.DataFrame(all_news_count_neg.toarray(),columns = bad_news_corpus)\n",
    "\n",
    "\n",
    "\n"
   ]
  },
  {
   "cell_type": "markdown",
   "metadata": {},
   "source": [
    "### 待解決問題：\n",
    "1.結巴不支援英文，是否用NLTK拉出來處理  \n",
    "2.stopwords還沒時間搞  \n",
    "3.組員切出來的自定義辭典不能用(貌似要加詞頻那些)  "
   ]
  },
  {
   "cell_type": "code",
   "execution_count": null,
   "metadata": {},
   "outputs": [],
   "source": [
    "all_news_count_pos"
   ]
  },
  {
   "cell_type": "code",
   "execution_count": null,
   "metadata": {},
   "outputs": [],
   "source": [
    "all_news_count_neg"
   ]
  },
  {
   "cell_type": "markdown",
   "metadata": {},
   "source": [
    "### 計算全部新聞和正面新聞的tf-idf / Chi-Square值"
   ]
  },
  {
   "cell_type": "markdown",
   "metadata": {},
   "source": [
    "### Good news"
   ]
  },
  {
   "cell_type": "code",
   "execution_count": null,
   "metadata": {},
   "outputs": [],
   "source": [
    "allnews_tf_dictionary_pos = {}\n",
    "allnews_df_dictionary_pos = {}\n",
    "\n",
    "\n",
    "column_name = all_news_count_pos.columns\n",
    "\n",
    "for i in column_name:\n",
    "    allnews_tf_dictionary_pos[i] = all_news_count_pos.loc[:,i].sum()\n",
    "    allnews_df_dictionary_pos[i] = np.count_nonzero(all_news_count_pos.loc[:,i])\n",
    "\n",
    "all_news_pos_tf = pd.DataFrame.from_dict(allnews_tf_dictionary_pos,orient='index',columns = ['tf_all_news'])\n",
    "all_news_pos_df = pd.DataFrame.from_dict(allnews_df_dictionary_pos,orient='index',columns = ['df_all_news'])\n",
    "all_news_pos = pd.concat([all_news_pos_tf,all_news_pos_df],axis = 1)\n",
    "all_news_pos['tf-idf_all_news'] =(np.log(all_news_count_pos.shape[0])/all_news_pos['df_all_news'])* all_news_pos['tf_all_news']\n",
    "\n",
    "\n",
    "pos_tf_dictionary = {}\n",
    "pos_df_dictionary = {}\n",
    "\n",
    "column_name = good_news_count.columns\n",
    "\n",
    "for i in column_name:\n",
    "    pos_tf_dictionary[i] = good_news_count.loc[:,i].sum()\n",
    "    pos_df_dictionary[i] = np.count_nonzero(good_news_count.loc[:,i])\n",
    "\n",
    "good_news_tf = pd.DataFrame.from_dict(pos_tf_dictionary,orient='index',columns = ['tf_good_news'])\n",
    "good_news_df = pd.DataFrame.from_dict(pos_df_dictionary,orient='index',columns = ['df_good_news'])\n",
    "good_news = pd.concat([good_news_tf,good_news_df],axis = 1)\n",
    "good_news['tf-idf_good_news'] = (np.log(good_news_count.shape[0])/good_news['df_good_news'])* good_news['tf_good_news']\n",
    "\n"
   ]
  },
  {
   "cell_type": "markdown",
   "metadata": {},
   "source": [
    "### Bad news"
   ]
  },
  {
   "cell_type": "code",
   "execution_count": null,
   "metadata": {},
   "outputs": [],
   "source": [
    "allnews_tf_dictionary_neg = {}\n",
    "allnews_df_dictionary_neg = {}\n",
    "\n",
    "\n",
    "column_name = all_news_count_neg.columns\n",
    "\n",
    "for i in column_name:\n",
    "    allnews_tf_dictionary_neg[i] = all_news_count_neg.loc[:,i].sum()\n",
    "    allnews_df_dictionary_neg[i] = np.count_nonzero(all_news_count_neg.loc[:,i])\n",
    "\n",
    "all_news_tf = pd.DataFrame.from_dict(allnews_tf_dictionary_neg,orient='index',columns = ['tf_all_news'])\n",
    "all_news_df = pd.DataFrame.from_dict(allnews_df_dictionary_neg,orient='index',columns = ['df_all_news'])\n",
    "all_news_neg = pd.concat([all_news_tf,all_news_df],axis = 1)\n",
    "all_news_neg['tf-idf_all_news'] =(np.log(all_news_count_neg.shape[0])/all_news_neg['df_all_news'])* all_news_neg['tf_all_news']\n",
    "\n",
    "\n",
    "neg_tf_dictionary = {}\n",
    "neg_df_dictionary = {}\n",
    "\n",
    "column_name = bad_news_count.columns\n",
    "\n",
    "for i in column_name:\n",
    "    neg_tf_dictionary[i] = bad_news_count.loc[:,i].sum()\n",
    "    neg_df_dictionary[i] = np.count_nonzero(bad_news_count.loc[:,i])\n",
    "\n",
    "#把字典弄成dataframe\n",
    "bad_news_tf = pd.DataFrame.from_dict(neg_tf_dictionary,orient='index',columns = ['tf_bad_news'])\n",
    "bad_news_df = pd.DataFrame.from_dict(neg_df_dictionary,orient='index',columns = ['df_bad_news'])\n",
    "bad_news = pd.concat([bad_news_tf,bad_news_df],axis = 1)\n",
    "bad_news['tf-idf_bad_news'] = (np.log(bad_news_count.shape[0])/bad_news['df_bad_news'])* bad_news['tf_bad_news']\n",
    "\n"
   ]
  },
  {
   "cell_type": "code",
   "execution_count": null,
   "metadata": {},
   "outputs": [],
   "source": [
    "TSMCtext_pos = pd.concat([good_news,all_news_pos],axis = 1,ignore_index=True)\n",
    "TSMCtext_pos.columns = list(good_news.columns)+list(all_news_pos)\n",
    "TSMCtext_pos['總新聞數'] = all_news_count_pos.shape[0]\n",
    "TSMCtext_pos['好新聞數'] = good_news_count.shape[0]\n",
    "TSMCtext_pos['tf期望值'] = TSMCtext_pos['tf_all_news']/all_news＿count_pos.shape[0]\n",
    "TSMCtext_pos['df期望值'] = TSMCtext_pos['df_all_news']/all_news＿count_pos.shape[0]\n",
    "TSMCtext_pos['MI'] = TSMCtext_pos['df_good_news'] / (TSMCtext_pos['總新聞數']*TSMCtext_pos['df_all_news'])\n",
    "TSMCtext_pos['MI*tf-idf'] = TSMCtext_pos['MI']*TSMCtext_pos['tf-idf_good_news']\n",
    "TSMCtext_pos['tf卡方值'] = np.square(TSMCtext_pos['tf_good_news']-TSMCtext_pos['tf期望值'])/TSMCtext_pos['tf期望值']\n",
    "TSMCtext_pos['df卡方值'] = np.square(TSMCtext_pos['df_good_news']-TSMCtext_pos['df期望值'])/TSMCtext_pos['df期望值']\n",
    "TSMCtext_pos['df卡方*tf-idf'] = TSMCtext_pos['df卡方值']*TSMCtext_pos['tf-idf_good_news']\n",
    "TSMCtext_pos['lift'] = (TSMCtext_pos['df_good_news']/TSMCtext_pos['好新聞數'])/(TSMCtext_pos['df_all_news']/TSMCtext_pos['總新聞數'])\n",
    "\n",
    "\n",
    "\n"
   ]
  },
  {
   "cell_type": "code",
   "execution_count": null,
   "metadata": {},
   "outputs": [],
   "source": [
    "TSMCtext_neg = pd.concat([bad_news,all_news_neg],axis = 1,ignore_index=True)\n",
    "TSMCtext_neg.columns = list(bad_news.columns)+list(all_news_neg)\n",
    "TSMCtext_neg['總新聞數'] = all_news_count_neg.shape[0]\n",
    "TSMCtext_neg['壞新聞數'] = bad_news_count.shape[0]\n",
    "TSMCtext_neg['tf期望值'] = TSMCtext_neg['tf_all_news']/all_news＿count_neg.shape[0]\n",
    "TSMCtext_neg['df期望值'] = TSMCtext_neg['df_all_news']/all_news＿count_neg.shape[0]\n",
    "TSMCtext_neg['MI'] = TSMCtext_neg['df_bad_news'] / (TSMCtext_neg['總新聞數']*TSMCtext_neg['df_all_news'])\n",
    "TSMCtext_neg['MI*tf-idf'] = TSMCtext_neg['MI']*TSMCtext_neg['tf-idf_bad_news']\n",
    "TSMCtext_neg['tf卡方值'] = np.square(TSMCtext_neg['tf_bad_news']-TSMCtext_neg['tf期望值'])/TSMCtext_neg['tf期望值']\n",
    "TSMCtext_neg['df卡方值'] = np.square(TSMCtext_neg['df_bad_news']-TSMCtext_neg['df期望值'])/TSMCtext_neg['df期望值']\n",
    "TSMCtext_neg['df卡方*tf-idf'] = TSMCtext_neg['df卡方值']*TSMCtext_neg['tf-idf_bad_news']\n",
    "TSMCtext_neg['lift'] = (TSMCtext_neg['df_bad_news']/TSMCtext_neg['壞新聞數'])/(TSMCtext_neg['df_all_news']/TSMCtext_neg['總新聞數'])\n",
    "\n",
    "\n"
   ]
  },
  {
   "cell_type": "code",
   "execution_count": null,
   "metadata": {},
   "outputs": [],
   "source": [
    "TSMCtext_pos['mix'] = TSMCtext_pos['MI']*TSMCtext_pos['df卡方*tf-idf']\n",
    "TSMCtext_neg['mix'] = TSMCtext_neg['MI']*TSMCtext_neg['df卡方*tf-idf']"
   ]
  },
  {
   "cell_type": "markdown",
   "metadata": {},
   "source": [
    "### 基本訊息都處理好了，接下來就是挑選關鍵字，並且以這些關鍵字為每一篇文章貼上正面分數和負面分數"
   ]
  },
  {
   "cell_type": "code",
   "execution_count": null,
   "metadata": {},
   "outputs": [],
   "source": [
    "TSMCtext_pos.sort_values(by = 'mix',ascending=False).head(20)\n",
    "TSMCtext_neg.sort_values(by = 'mix',ascending=False).head(20)\n"
   ]
  },
  {
   "cell_type": "code",
   "execution_count": null,
   "metadata": {},
   "outputs": [],
   "source": [
    "final_positive_token = np.array(TSMCtext_pos.sort_values(by = 'mix',ascending=False).head(1000).index)\n",
    "final_negative_token = np.array(TSMCtext_neg.sort_values(by = 'mix',ascending=False).head(1000).index)"
   ]
  },
  {
   "cell_type": "code",
   "execution_count": null,
   "metadata": {},
   "outputs": [],
   "source": [
    "import seaborn as sns\n",
    "from matplotlib.font_manager import FontProperties\n",
    "font = FontProperties(fname='/Library/Frameworks/Python.framework/Versions/3.6/lib/python3.6/site-packages/matplotlib/mpl-data/fonts/ttf/SimHei.ttf')\n",
    "fig = plt.figure(figsize=(6, 4),tight_layout=True)\n",
    "all_news_pos_score = all_news_count_pos[final_positive_token].sum(axis = 1)\n",
    "all_news_neg_score = all_news_count_neg[final_negative_token].sum(axis = 1)\n",
    "\n",
    "sns.boxplot(all_news_pos_score)\n",
    "all_news_pos_score.describe()\n",
    "plt.title('正向分數分佈圖',fontproperties=font,fontsize=18)\n",
    "plt.xlabel('正向分數',fontproperties=font,fontsize=12)\n",
    "\n",
    "plt.savefig('all_news_pos_score.png',tight_layout=True)"
   ]
  },
  {
   "cell_type": "code",
   "execution_count": null,
   "metadata": {},
   "outputs": [],
   "source": [
    "import seaborn as sns\n",
    "from matplotlib.font_manager import FontProperties\n",
    "font = FontProperties(fname='/Library/Frameworks/Python.framework/Versions/3.6/lib/python3.6/site-packages/matplotlib/mpl-data/fonts/ttf/SimHei.ttf')\n",
    "fig = plt.figure(figsize=(6, 4),tight_layout=True)\n",
    "all_news_pos_score = all_news_count_pos[final_positive_token].sum(axis = 1)\n",
    "all_news_neg_score = all_news_count_neg[final_negative_token].sum(axis = 1)\n",
    "\n",
    "sns.boxplot(all_news_neg_score)\n",
    "all_news_neg_score.describe()\n",
    "plt.title('負向分數分佈圖',fontproperties=font,fontsize=18)\n",
    "plt.xlabel('負向分數',fontproperties=font,fontsize=12)\n",
    "\n",
    "plt.savefig('all_news_neg_score.png',tight_layout=True)\n",
    "\n",
    "\n"
   ]
  },
  {
   "cell_type": "markdown",
   "metadata": {},
   "source": [
    "### 發現df卡方 x tf-idf 會表現最好\n",
    "\n",
    "因此輸出重要的正負向情緒字各1000個"
   ]
  },
  {
   "cell_type": "code",
   "execution_count": null,
   "metadata": {},
   "outputs": [],
   "source": []
  },
  {
   "cell_type": "code",
   "execution_count": null,
   "metadata": {},
   "outputs": [],
   "source": [
    "fp = open(\"/Users/liaoshousan/Desktop/大四上/R語言與資料科學導論/Final_PROJECT-StockPrice Prediction/兩千個重要正負面詞彙/token_2000.txt\", \"w\")\n",
    " \n",
    "# 寫入 all_tokens 到檔案\n",
    "for token in final_positive_token:\n",
    "    fp.writelines(token)\n",
    "    fp.writelines('\\n')\n",
    "# 關閉檔案\n",
    "fp.close()\n",
    "\n",
    "fp = open(\"/Users/liaoshousan/Desktop/大四上/R語言與資料科學導論/Final_PROJECT-StockPrice Prediction/兩千個重要正負面詞彙/token_2000.txt\", \"a\")\n",
    "\n",
    "for token in final_negative_token:\n",
    "    fp.writelines(token)\n",
    "    fp.writelines('\\n')\n",
    "\n",
    "fp.close()"
   ]
  },
  {
   "cell_type": "markdown",
   "metadata": {},
   "source": [
    "### 在還沒有斷詞斷乾淨前，就姑且以「df卡方 x tf-idf」這個標準挑選前500個詞來給每篇文章正面和負面分數"
   ]
  },
  {
   "cell_type": "code",
   "execution_count": null,
   "metadata": {},
   "outputs": [],
   "source": [
    "positive_score = all_news_count_pos[final_positive_token].sum(axis = 1)\n",
    "negative_score  = all_news_count_neg[final_negative_token].sum(axis = 1)\n",
    "TSMC_NEWS['positive_score'] = positive_score\n",
    "TSMC_NEWS['negative_score'] = negative_score\n",
    "TSMC_NEWS['emotional_score'] = TSMC_NEWS['positive_score'] - TSMC_NEWS['negative_score']"
   ]
  },
  {
   "cell_type": "code",
   "execution_count": null,
   "metadata": {},
   "outputs": [],
   "source": [
    "TSMC_NEWS[TSMC_NEWS['status']==1]['emotional_score'].describe()"
   ]
  },
  {
   "cell_type": "code",
   "execution_count": null,
   "metadata": {},
   "outputs": [],
   "source": [
    "TSMC_NEWS[TSMC_NEWS['status']==0]['emotional_score'].describe()"
   ]
  },
  {
   "cell_type": "code",
   "execution_count": null,
   "metadata": {},
   "outputs": [],
   "source": [
    "TSMC_NEWS[TSMC_NEWS['status']==-1]['emotional_score'].describe()"
   ]
  },
  {
   "cell_type": "markdown",
   "metadata": {},
   "source": [
    "有了每天文章的分數，再來就是要和股價呼應了，每日股價都應該會有一排該日所有文章的「情緒分數」"
   ]
  },
  {
   "cell_type": "code",
   "execution_count": null,
   "metadata": {},
   "outputs": [],
   "source": [
    "TSMC_PRICE.rename(columns={'日期':'TIME'}, inplace=True)"
   ]
  },
  {
   "cell_type": "code",
   "execution_count": null,
   "metadata": {},
   "outputs": [],
   "source": [
    "TSMC_PRICE"
   ]
  },
  {
   "cell_type": "code",
   "execution_count": null,
   "metadata": {},
   "outputs": [],
   "source": [
    "TSMC_NEWS['TIME'] =  pd.to_datetime(TSMC_NEWS['TIME'], format='%Y/%m/%d')\n",
    "TSMC_PRICE['TIME'] =  pd.to_datetime(TSMC_PRICE['TIME'], format='%Y/%m/%d')\n"
   ]
  },
  {
   "cell_type": "markdown",
   "metadata": {},
   "source": [
    "由於今天的新聞，你只能獲得前n天的股價資訊，而不會得知「當天的」任何市場資訊  \n",
    "因此我在處理該篇新聞的其他衍生數據時，要concat的是前幾天的股市資訊  "
   ]
  },
  {
   "cell_type": "code",
   "execution_count": null,
   "metadata": {},
   "outputs": [],
   "source": [
    "mylist = ['d','v','b']\n",
    "m = '1'\n",
    "mylist = list(map(lambda x:x+m,mylist))\n",
    "mylist"
   ]
  },
  {
   "cell_type": "code",
   "execution_count": null,
   "metadata": {},
   "outputs": [],
   "source": [
    "import time\n",
    "from datetime import datetime, date, time, timedelta\n",
    "def time_shift(df,n):\n",
    "    df = df.set_index('TIME')\n",
    "    df = df.shift(n)\n",
    "    df = df.reset_index()\n",
    "    return df\n",
    "    \n",
    "TSMC_PRICE_d1 = time_shift(TSMC_PRICE,1)\n",
    "TSMC_PRICE_d2 = time_shift(TSMC_PRICE,2)\n",
    "TSMC_PRICE_d3 = time_shift(TSMC_PRICE,3)\n",
    "# temp1 = pd.merge(TSMC_PRICE_d1,TSMC_PRICE_d2,how = 'inner',on='TIME')\n",
    "# temp2 = pd.merge(temp1,TSMC_PRICE_d3,how = 'inner',on='TIME')\n",
    "# TSMC_PRICE = temp2"
   ]
  },
  {
   "cell_type": "code",
   "execution_count": null,
   "metadata": {},
   "outputs": [],
   "source": [
    "TSMC_PRICE_d1.drop(columns = ['status','TIME'],inplace = True)\n",
    "TSMC_PRICE_d2.drop(columns = ['status','TIME'],inplace = True)\n",
    "TSMC_PRICE_d3.drop(columns = ['status','TIME'],inplace = True)\n",
    "output = pd.concat([TSMC_PRICE_d1,TSMC_PRICE_d2,TSMC_PRICE_d3],axis = 1)\n"
   ]
  },
  {
   "cell_type": "code",
   "execution_count": null,
   "metadata": {},
   "outputs": [],
   "source": [
    "output.columns = ['成交股數_d1','成交金額_d1','開盤價_d1','最高價_d1','最低價_d1','收盤價_d1','漲跌價差_d1','成交筆數_d1',\n",
    "                  '成交股數_d2','成交金額_d2','開盤價_d2','最高價_d2','最低價_d2','收盤價_d2','漲跌價差_d2','成交筆數_d2',\n",
    "                 '成交股數_d3','成交金額_d3','開盤價_d3','最高價_d3','最低價_d3','收盤價_d3','漲跌價差_d3','成交筆數_d3']\n",
    "# output['成交筆數_d1'] = output['成交筆數_d1'].apply(lambda x: x.replace(',',''))\n",
    "\n",
    "output['TIME'] = TSMC_PRICE['TIME']\n",
    "output['status'] = TSMC_PRICE['status']"
   ]
  },
  {
   "cell_type": "code",
   "execution_count": null,
   "metadata": {},
   "outputs": [],
   "source": [
    "output.head()"
   ]
  },
  {
   "cell_type": "markdown",
   "metadata": {},
   "source": [
    "每篇新聞都有emotional score了，但是每天的emotional score集合  \n",
    "對每天的股市估算出一個average_emotional_score  \n",
    "但後來也沒用到  "
   ]
  },
  {
   "cell_type": "code",
   "execution_count": null,
   "metadata": {},
   "outputs": [],
   "source": [
    "emotional_score ={}\n",
    "positive_score = {}\n",
    "negative_score = {}\n",
    "\n",
    "for i in output['TIME']:\n",
    "    try:\n",
    "        emotional_score[i] = TSMC_NEWS.groupby('TIME').get_group(i)['emotional_score'].mean()\n",
    "        positive_score[i] = TSMC_NEWS.groupby('TIME').get_group(i)['positive_score'].mean()\n",
    "        negative_score[i] = TSMC_NEWS.groupby('TIME').get_group(i)['negative_score'].mean()\n",
    "        \n",
    "    except :\n",
    "        emotional_score[i] = 0\n",
    "        positive_score[i] = 0\n",
    "        negative_score[i] = 0\n",
    "emotional_score = pd.DataFrame.from_dict(emotional_score,orient='index').reset_index()\n",
    "emotional_score.columns=['TIME','emotional_score']\n",
    "emotional_score['emotional_score_d1'] = emotional_score.emotional_score.shift(1) #因為只能給今天看到前n天的資訊，故要shift(n)\n",
    "emotional_score['emotional_score_d2'] = emotional_score.emotional_score.shift(2) \n",
    "emotional_score['emotional_score_d3'] = emotional_score.emotional_score.shift(3) \n",
    "emotional_score.drop(columns=['emotional_score'],inplace = True) \n",
    "\n",
    "positive_score = pd.DataFrame.from_dict(positive_score,orient='index').reset_index()\n",
    "positive_score.columns=['TIME','positive_score']\n",
    "positive_score['positive_score_d1'] = positive_score.positive_score.shift(1)\n",
    "positive_score['positive_score_d2'] = positive_score.positive_score.shift(2)\n",
    "positive_score['positive_score_d3'] = positive_score.positive_score.shift(3)\n",
    "positive_score.drop(columns=['positive_score'],inplace = True) \n",
    "\n",
    "negative_score = pd.DataFrame.from_dict(negative_score,orient='index').reset_index()\n",
    "negative_score.columns=['TIME','negative_score']\n",
    "negative_score['negative_score_d1'] = negative_score.negative_score.shift(1)\n",
    "negative_score['negative_score_d2'] = negative_score.negative_score.shift(2)\n",
    "negative_score['negative_score_d3'] = negative_score.negative_score.shift(3)\n",
    "negative_score.drop(columns=['negative_score'],inplace = True) \n",
    "\n",
    "\n",
    "temp1 = pd.merge(output,emotional_score,how='inner',on=['TIME'])\n",
    "temp2 = pd.merge(temp1,positive_score,how='inner',on=['TIME'])\n",
    "temp3 = pd.merge(temp2,negative_score,how='inner',on=['TIME'])\n",
    "temp3     \n"
   ]
  },
  {
   "cell_type": "markdown",
   "metadata": {},
   "source": [
    "把結果輸出成新的NEWS和新的price"
   ]
  },
  {
   "cell_type": "code",
   "execution_count": null,
   "metadata": {},
   "outputs": [],
   "source": [
    "TSMC_NEWS.to_csv('/Users/liaoshousan/Desktop/大四上/R語言與資料科學導論/Final_PROJECT-StockPrice Prediction/做好所有預處理的新聞/TSMC_NEWS.csv',index=None)\n",
    "temp3.to_csv('/Users/liaoshousan/Desktop/大四上/R語言與資料科學導論/Final_PROJECT-StockPrice Prediction/做好所有預處理的股價/TSMC_Stock.csv',index=None)\n"
   ]
  },
  {
   "cell_type": "markdown",
   "metadata": {},
   "source": [
    "剩下的我們到建模型那塊再講吧"
   ]
  },
  {
   "cell_type": "code",
   "execution_count": null,
   "metadata": {},
   "outputs": [],
   "source": []
  },
  {
   "cell_type": "code",
   "execution_count": null,
   "metadata": {},
   "outputs": [],
   "source": []
  },
  {
   "cell_type": "markdown",
   "metadata": {},
   "source": [
    "### 將斷詞的詞寫入txt"
   ]
  },
  {
   "cell_type": "code",
   "execution_count": null,
   "metadata": {},
   "outputs": [],
   "source": [
    "# all_tokens = list(TSMCtext.sort_values(by = 'MI',ascending=False).index)\n",
    "\n",
    "# # fp = open(\"/Users/liaoshousan/Desktop/RLSD_PROJECT-StockPrice Prediction/斷出來的詞/tokenize_result_Largan.txt\", \"a\")\n",
    " \n",
    "# # 寫入 all_tokens 到檔案\n",
    "# for token in all_tokens:\n",
    "#     fp.writelines(token)\n",
    "#     fp.writelines('\\n')\n",
    "    \n",
    " \n",
    "# # 關閉檔案\n",
    "# fp.close()"
   ]
  }
 ],
 "metadata": {
  "kernelspec": {
   "display_name": "Python 3",
   "language": "python",
   "name": "python3"
  },
  "language_info": {
   "codemirror_mode": {
    "name": "ipython",
    "version": 3
   },
   "file_extension": ".py",
   "mimetype": "text/x-python",
   "name": "python",
   "nbconvert_exporter": "python",
   "pygments_lexer": "ipython3",
   "version": "3.7.4"
  }
 },
 "nbformat": 4,
 "nbformat_minor": 2
}
