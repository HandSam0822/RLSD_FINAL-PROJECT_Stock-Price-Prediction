{
 "cells": [
  {
   "cell_type": "code",
   "execution_count": 1,
   "metadata": {
    "colab": {},
    "colab_type": "code",
    "id": "z7XZ7CjR61E6"
   },
   "outputs": [],
   "source": [
    "import pandas as pd\n",
    "import numpy as np\n",
    "import matplotlib.pyplot as plt\n",
    "import re\n",
    "import jieba\n",
    "from sklearn.feature_extraction.text import CountVectorizer\n",
    "import seaborn as sns\n"
   ]
  },
  {
   "cell_type": "code",
   "execution_count": 2,
   "metadata": {
    "colab": {},
    "colab_type": "code",
    "id": "H2iOJnyr61FG"
   },
   "outputs": [],
   "source": [
    "TSMC_NEWS = pd.read_csv(\"/Users/liaoshousan/Desktop/大四上/R語言與資料科學導論/Final_PROJECT-StockPrice Prediction/做好所有預處理的新聞/LARGAN_NEWS.csv\")\n",
    "TSMC_PRICE = pd.read_csv(\"/Users/liaoshousan/Desktop/大四上/R語言與資料科學導論/Final_PROJECT-StockPrice Prediction/做好所有預處理的股價/LARGAN_Stock.csv\")\n"
   ]
  },
  {
   "cell_type": "code",
   "execution_count": 5,
   "metadata": {},
   "outputs": [],
   "source": [
    "# 匯入必要的工具包\n",
    "import xgboost as xgb\n",
    "from xgboost import XGBRegressor\n",
    "from xgboost import XGBClassifier\n",
    "from sklearn.model_selection import GridSearchCV\n",
    "# 計算分類正確率\n",
    "from sklearn.metrics import roc_auc_score\n",
    "from sklearn.metrics import accuracy_score\n"
   ]
  },
  {
   "cell_type": "code",
   "execution_count": 6,
   "metadata": {},
   "outputs": [
    {
     "name": "stdout",
     "output_type": "stream",
     "text": [
      "<class 'pandas.core.frame.DataFrame'>\n",
      "RangeIndex: 516 entries, 0 to 515\n",
      "Data columns (total 35 columns):\n",
      "成交股數_d1               515 non-null float64\n",
      "成交金額_d1               515 non-null float64\n",
      "開盤價_d1                515 non-null float64\n",
      "最高價_d1                515 non-null float64\n",
      "最低價_d1                515 non-null float64\n",
      "收盤價_d1                515 non-null float64\n",
      "漲跌價差_d1               515 non-null object\n",
      "成交筆數_d1               515 non-null object\n",
      "成交股數_d2               514 non-null float64\n",
      "成交金額_d2               514 non-null float64\n",
      "開盤價_d2                514 non-null float64\n",
      "最高價_d2                514 non-null float64\n",
      "最低價_d2                514 non-null float64\n",
      "收盤價_d2                514 non-null float64\n",
      "漲跌價差_d2               514 non-null object\n",
      "成交筆數_d2               514 non-null object\n",
      "成交股數_d3               513 non-null float64\n",
      "成交金額_d3               513 non-null float64\n",
      "開盤價_d3                513 non-null float64\n",
      "最高價_d3                513 non-null float64\n",
      "最低價_d3                513 non-null float64\n",
      "收盤價_d3                513 non-null float64\n",
      "漲跌價差_d3               513 non-null object\n",
      "成交筆數_d3               513 non-null object\n",
      "TIME                  516 non-null object\n",
      "status                516 non-null int64\n",
      "emotional_score_d1    515 non-null float64\n",
      "emotional_score_d2    514 non-null float64\n",
      "emotional_score_d3    513 non-null float64\n",
      "positive_score_d1     515 non-null float64\n",
      "positive_score_d2     514 non-null float64\n",
      "positive_score_d3     513 non-null float64\n",
      "negative_score_d1     515 non-null float64\n",
      "negative_score_d2     514 non-null float64\n",
      "negative_score_d3     513 non-null float64\n",
      "dtypes: float64(27), int64(1), object(7)\n",
      "memory usage: 141.2+ KB\n"
     ]
    }
   ],
   "source": [
    "TSMC_PRICE.info()"
   ]
  },
  {
   "cell_type": "code",
   "execution_count": 7,
   "metadata": {},
   "outputs": [],
   "source": [
    "# #把成交筆數從string轉成float\n",
    "# import ast\n",
    "# TSMC_PRICE['成交筆數_d1'] = TSMC_PRICE['成交筆數_d1'].apply(lambda x: x.replace(',',''))\n",
    "# TSMC_PRICE['成交筆數_d1'] = TSMC_PRICE['成交筆數_d1'].apply(lambda x:ast.literal_eval(x))\n",
    "                                         \n",
    "# TSMC_PRICE['成交筆數_d2'] = TSMC_PRICE['成交筆數_d2'].apply(lambda x: x.replace(',',''))\n",
    "# TSMC_PRICE['成交筆數_d2'] = TSMC_PRICE['成交筆數_d2'].apply(lambda x:ast.literal_eval(x))\n",
    "                                         \n",
    "# TSMC_PRICE['成交筆數_d3'] = TSMC_PRICE['成交筆數_d3'].apply(lambda x: x.replace(',',''))\n",
    "# TSMC_PRICE['成交筆數_d3'] = TSMC_PRICE['成交筆數_d3'].apply(lambda x:ast.literal_eval(x))\n",
    "                                         \n"
   ]
  },
  {
   "cell_type": "code",
   "execution_count": 8,
   "metadata": {},
   "outputs": [],
   "source": [
    "X = TSMC_PRICE.drop(columns = ['TIME','status','漲跌價差_d1','漲跌價差_d2','漲跌價差_d3',\n",
    "                               '成交筆數_d1','成交筆數_d2','成交筆數_d3'])\n",
    "y = TSMC_PRICE['status']\n",
    "\n",
    "from sklearn.model_selection import train_test_split\n",
    "X_train, X_test, y_train, y_test = train_test_split(X, y, test_size=0.3, random_state=42)"
   ]
  },
  {
   "cell_type": "code",
   "execution_count": 9,
   "metadata": {},
   "outputs": [
    {
     "data": {
      "text/plain": [
       "Index(['成交股數_d1', '成交金額_d1', '開盤價_d1', '最高價_d1', '最低價_d1', '收盤價_d1', '成交股數_d2',\n",
       "       '成交金額_d2', '開盤價_d2', '最高價_d2', '最低價_d2', '收盤價_d2', '成交股數_d3', '成交金額_d3',\n",
       "       '開盤價_d3', '最高價_d3', '最低價_d3', '收盤價_d3', 'emotional_score_d1',\n",
       "       'emotional_score_d2', 'emotional_score_d3', 'positive_score_d1',\n",
       "       'positive_score_d2', 'positive_score_d3', 'negative_score_d1',\n",
       "       'negative_score_d2', 'negative_score_d3'],\n",
       "      dtype='object')"
      ]
     },
     "execution_count": 9,
     "metadata": {},
     "output_type": "execute_result"
    }
   ],
   "source": [
    "X.columns"
   ]
  },
  {
   "cell_type": "markdown",
   "metadata": {},
   "source": [
    "預測漲跌該日的漲跌"
   ]
  },
  {
   "cell_type": "code",
   "execution_count": 10,
   "metadata": {},
   "outputs": [
    {
     "data": {
      "text/plain": [
       "XGBClassifier(base_score=0.5, booster='gbtree', colsample_bylevel=1,\n",
       "              colsample_bynode=1, colsample_bytree=1, gamma=0,\n",
       "              learning_rate=0.1, max_delta_step=0, max_depth=3,\n",
       "              min_child_weight=1, missing=None, n_estimators=100, n_jobs=1,\n",
       "              nthread=None, objective='multi:softprob', random_state=0,\n",
       "              reg_alpha=0, reg_lambda=1, scale_pos_weight=1, seed=None,\n",
       "              silent=None, subsample=1, verbosity=1)"
      ]
     },
     "execution_count": 10,
     "metadata": {},
     "output_type": "execute_result"
    }
   ],
   "source": [
    "model = xgb.XGBClassifier()\n",
    "model.fit(X_train, y_train)"
   ]
  },
  {
   "cell_type": "code",
   "execution_count": 11,
   "metadata": {},
   "outputs": [
    {
     "name": "stdout",
     "output_type": "stream",
     "text": [
      "<function accuracy_score at 0x11141a440> : 0.8258064516129032\n"
     ]
    }
   ],
   "source": [
    "print(f'{accuracy_score} : {accuracy_score(y_test, model.predict(X_test))}')\n"
   ]
  },
  {
   "cell_type": "code",
   "execution_count": 276,
   "metadata": {},
   "outputs": [
    {
     "data": {
      "image/png": "[encoded data removed]",
      "text/plain": [
       "<Figure size 1440x576 with 1 Axes>"
      ]
     },
     "metadata": {
      "needs_background": "light"
     },
     "output_type": "display_data"
    }
   ],
   "source": [
    "x = model.feature_importances_\n",
    "y = X_train.columns\n",
    "feature_importance =  pd.DataFrame(x,y).reset_index()\n",
    "feature_importance.columns = ['feature_names','feature_importance']\n",
    "feature_importance = feature_importance.sort_values('feature_importance',ascending=False)\n",
    "feature_importance.head()\n",
    "\n",
    "from matplotlib.font_manager import FontProperties\n",
    "font = FontProperties(fname='/Library/Frameworks/Python.framework/Versions/3.6/lib/python3.6/site-packages/matplotlib/mpl-data/fonts/ttf/SimHei.ttf')\n",
    "fig = plt.figure(figsize=(20, 8),tight_layout=True)\n",
    "plt.xticks(range(10), feature_importance.iloc[:10,0],rotation=-45,fontproperties=font,fontsize=14)\n",
    "plt.bar(feature_importance.iloc[:10,0],feature_importance.iloc[:10,1])\n",
    "plt.ylabel('importance_score')\n",
    "plt.title('Feature importance', fontsize=14)\n",
    "plt.savefig('大立光:Feature importance.png')"
   ]
  },
  {
   "cell_type": "markdown",
   "metadata": {},
   "source": [
    "### 多分類的混淆矩陣"
   ]
  },
  {
   "cell_type": "code",
   "execution_count": 350,
   "metadata": {},
   "outputs": [
    {
     "data": {
      "image/png": "[encoded data removed]",
      "text/plain": [
       "<Figure size 432x288 with 2 Axes>"
      ]
     },
     "metadata": {},
     "output_type": "display_data"
    }
   ],
   "source": [
    "import seaborn as sns\n",
    "from sklearn.metrics import confusion_matrix \n",
    "import matplotlib.pyplot as plt \n",
    "\n",
    "# plt.figure(figsize = (14,8))\n",
    "y_true = list(y_test)\n",
    "y_pred = list(model.predict(X_test))\n",
    "C2= confusion_matrix(y_true, y_pred, labels=[-1, 0, 1]) \n",
    "\n",
    "ax = sns.heatmap(C2,annot=True,cmap='Blues')\n",
    "plt.title('Confusion_matrix')\n",
    "\n",
    "bottom, top = ax.get_ylim()\n",
    "ax.set_ylim(bottom + 0.5, top - 0.5)\n",
    "plt.savefig('confusion_matrix',tight_layout=True)\n",
    "\n",
    "\n"
   ]
  },
  {
   "cell_type": "markdown",
   "metadata": {
    "colab_type": "text",
    "id": "wtHT2KDw61FV"
   },
   "source": [
    "我要將新聞的content結巴斷詞，並且使用我所選出的N個字進行coutvectorizer，得到一個稀疏矩陣  \n",
    "稀疏矩陣+情感分數+昨日的股價漲跌= X  \n",
    "status = Y  \n",
    "\n",
    "### 跑一次確定可以之後，一定要改進的部分\n",
    "- 股價資訊記得弄回昨天的(沒有人會在開盤就看到當天的結果)\n",
    "- 股價可以考慮不只一天的\n",
    "- 可以考慮同業的狀況or新聞納入，豐富語料庫\n",
    "- 標題和描述可以考慮切一下\n",
    "- 每個情感分數應該給予不同權重"
   ]
  },
  {
   "cell_type": "markdown",
   "metadata": {
    "colab_type": "text",
    "id": "uEYPqhxU61FW"
   },
   "source": [
    "### 對全部的新聞結巴切詞"
   ]
  },
  {
   "cell_type": "code",
   "execution_count": 77,
   "metadata": {
    "colab": {},
    "colab_type": "code",
    "id": "sM_nAxS361FZ"
   },
   "outputs": [],
   "source": [
    "token_list = []\n",
    "for NEWS in TSMC_NEWS['CONTENT']:\n",
    "    NEWS = re.sub(r'[。，（）_?\\d]','',NEWS)\n",
    "    #這邊想再加一行過濾亂碼的條件，但是還沒搞懂\n",
    "    seg_list = jieba.cut(NEWS)\n",
    "    token = ' '.join(NEWS)\n",
    "    token_list.append(token)\n"
   ]
  },
  {
   "cell_type": "markdown",
   "metadata": {
    "colab_type": "text",
    "id": "jd-RqutM61Fz"
   },
   "source": [
    "去數每一篇文章出現重要情緒字眼的one-hot-dataframe"
   ]
  },
  {
   "cell_type": "code",
   "execution_count": 78,
   "metadata": {
    "colab": {},
    "colab_type": "code",
    "id": "bonwI3rs61F0"
   },
   "outputs": [],
   "source": [
    "with open(\"/Users/liaoshousan/Desktop/大四上/R語言與資料科學導論/Final_PROJECT-StockPrice Prediction/兩千個重要正負面詞彙/token_2000.txt\", \"r\") as f:\n",
    "    token_2000 = f.read().splitlines()\n",
    "\n",
    "token_2000 = list(set(token_2000))\n",
    "count_vec = CountVectorizer(vocabulary=token_2000)\n",
    "token_matrix = count_vec.fit_transform(token_list)\n",
    "token_array = pd.DataFrame(token_matrix.toarray(),columns = token_2000)\n",
    "\n"
   ]
  },
  {
   "cell_type": "code",
   "execution_count": 79,
   "metadata": {
    "colab": {},
    "colab_type": "code",
    "id": "Yq_gRBnX61F7"
   },
   "outputs": [],
   "source": [
    "X = pd.concat([TSMC_NEWS,token_array],axis = 1)\n",
    "\n",
    "y = X['status']\n",
    "X = X.drop(columns=['TITLE','TIME','DESCRIPTION','CONTENT','status','漲跌價差','成交筆數'],axis = 1)\n",
    "\n"
   ]
  },
  {
   "cell_type": "code",
   "execution_count": 80,
   "metadata": {
    "colab": {
     "base_uri": "https://localhost:8080/",
     "height": 1000
    },
    "colab_type": "code",
    "id": "x84cinCMQ0NM",
    "outputId": "3e08a09f-1d5c-4e33-c7f7-5da3636846b1"
   },
   "outputs": [
    {
     "data": {
      "text/plain": [
       "Index(['TITLE', 'TIME', 'DESCRIPTION', 'CONTENT', 'year', 'month', 'day',\n",
       "       'hour', 'positive_score', 'negative_score', 'emotional_score', '成交股數',\n",
       "       '成交金額', '開盤價', '最高價', '最低價', '收盤價', '漲跌價差', '成交筆數', 'status'],\n",
       "      dtype='object')"
      ]
     },
     "execution_count": 80,
     "metadata": {},
     "output_type": "execute_result"
    }
   ],
   "source": [
    "TSMC_NEWS.columns"
   ]
  },
  {
   "cell_type": "code",
   "execution_count": 53,
   "metadata": {
    "colab": {},
    "colab_type": "code",
    "id": "hZbKtNFj61GL"
   },
   "outputs": [],
   "source": [
    "col = X.columns\n",
    "for i in col:\n",
    "    if X[i].dtypes=='object':\n",
    "        print(i)\n",
    "#         X[i] = X[i].astype(float)\n"
   ]
  },
  {
   "cell_type": "code",
   "execution_count": 54,
   "metadata": {
    "colab": {},
    "colab_type": "code",
    "id": "aAxpyKB161GP"
   },
   "outputs": [],
   "source": [
    "from sklearn.model_selection import train_test_split\n",
    "X_train, X_test, y_train, y_test = train_test_split(X, y, test_size=0.3, random_state=42)"
   ]
  },
  {
   "cell_type": "code",
   "execution_count": 55,
   "metadata": {
    "colab": {},
    "colab_type": "code",
    "id": "7L2DE3DR61GS"
   },
   "outputs": [],
   "source": [
    "# 匯入必要的工具包\n",
    "import xgboost as xgb\n",
    "from xgboost import XGBClassifier\n",
    "from sklearn.model_selection import GridSearchCV\n",
    "# 計算分類正確率\n",
    "from sklearn.metrics import roc_auc_score\n",
    "from sklearn.metrics import accuracy_score\n"
   ]
  },
  {
   "cell_type": "code",
   "execution_count": 56,
   "metadata": {
    "colab": {
     "base_uri": "https://localhost:8080/",
     "height": 51
    },
    "colab_type": "code",
    "id": "SxKqfz-U61Gc",
    "outputId": "c632cd6b-49e4-4953-f64f-7cbc28aa3ccf"
   },
   "outputs": [],
   "source": [
    "dtrain = xgb.DMatrix(X_train, label = y_train ,feature_names=X_train.columns.values)\n",
    "dtest = xgb.DMatrix(X_test)"
   ]
  },
  {
   "cell_type": "markdown",
   "metadata": {
    "colab_type": "text",
    "id": "zW_dh6b_61Gf"
   },
   "source": [
    "### 參數開調"
   ]
  },
  {
   "cell_type": "code",
   "execution_count": 57,
   "metadata": {
    "colab": {},
    "colab_type": "code",
    "id": "jAzPen-u61Gh"
   },
   "outputs": [],
   "source": [
    "# parameters = {\n",
    "#               'max_depth': [5,10],\n",
    "#                'learning_rate': [0.01,0.03,0.05],\n",
    "#                'n_estimators': [500,1000],\n",
    "#                 'min_child_weight': [5,10,15],\n",
    "#                 'seed':[1500,2000,2500,3000]\n",
    "# #                'colsample_bytree': [0.5,0.75,1], # 0.5-1是典型值\n",
    "# #                'scale_pos_weight': [0.9,1]\n",
    "    \n",
    "# }\n",
    "\n",
    "# clf = XGBClassifier(\n",
    "#     #樹的個數\n",
    "# #     n_estimators=500,\n",
    "# #     learning_rate= 0.01, # 如同學習率\n",
    "# #     max_depth=5, # 構建樹的深度，越大越容易過擬合 \n",
    "#     subsample=0.7, #隨機取樣訓練樣本 訓練例項的子取樣比\n",
    "#     gamma=0, # 用於控制是否後剪枝的引數,越大越保守，一般0.1、0.2這樣子\n",
    "#     reg_lambda=1,  # 控制模型複雜度的權重值的L2正則化項引數，引數越大，模型越不容易過擬合。\n",
    "#     max_delta_step=0, #最大增量步長，我們允許每個樹的權重估計。\n",
    "#     colsample_bytree=1, # 生成樹時進行的列取樣\n",
    "# #     min_child_weight=1, #分裂到多少的節點才停下來，這個引數非常影響結果，該引數值越小，越容易 overfitting\n",
    "# #     seed=1000,#隨機種子(防止過擬合)\n",
    "#     reg_alpha=0,# L1 正則項引數\n",
    "#     scale_pos_weight=1,#如果取值大於0的話，在類別樣本不平衡的情況下有助於快速收斂。平衡正負權重\n",
    "#     objective = 'multi:softmax',\n",
    "#     silent=0 ,# 設定成1則沒有執行資訊輸出，最好是設定為0.是否在執行升級時列印訊息。\n",
    "#     nthread=4, #cpu 執行緒數 預設最大\n",
    "# #     eval_metric= 'auc'\n",
    "# )\n",
    "\n",
    "\n",
    "# gsearch = GridSearchCV(clf, param_grid=parameters, scoring='accuracy', cv=5)\n",
    "# gsearch.fit(X_train, y_train)\n",
    "\n",
    "\n",
    "# print(\"Best score: %0.3f\" % gsearch.best_score_)\n",
    "# print(\"Best parameters set:\")\n",
    "# best_parameters = gsearch.best_estimator_.get_params()\n",
    "# for param_name in sorted(parameters.keys()):\n",
    "#     print(\"\\t%s: %r\" % (param_name, best_parameters[param_name]))\n",
    "\n"
   ]
  },
  {
   "cell_type": "code",
   "execution_count": 58,
   "metadata": {
    "colab": {
     "base_uri": "https://localhost:8080/",
     "height": 374
    },
    "colab_type": "code",
    "id": "C_EZtDz461Gw",
    "outputId": "899eaeb5-12bb-42b7-f9e2-38c2443cdf1a"
   },
   "outputs": [
    {
     "name": "stdout",
     "output_type": "stream",
     "text": [
      "[0]\ttrain-rmse:0.436163\n",
      "Will train until train-rmse hasn't improved in 5 rounds.\n",
      "[1]\ttrain-rmse:0.321281\n",
      "[2]\ttrain-rmse:0.24248\n",
      "[3]\ttrain-rmse:0.193624\n",
      "[4]\ttrain-rmse:0.162764\n",
      "[5]\ttrain-rmse:0.12696\n",
      "[6]\ttrain-rmse:0.098257\n",
      "[7]\ttrain-rmse:0.074602\n",
      "[8]\ttrain-rmse:0.06531\n",
      "[9]\ttrain-rmse:0.052638\n",
      "[10]\ttrain-rmse:0.045342\n",
      "[11]\ttrain-rmse:0.036716\n",
      "[12]\ttrain-rmse:0.035369\n",
      "[13]\ttrain-rmse:0.031485\n",
      "[14]\ttrain-rmse:0.027035\n",
      "[15]\ttrain-rmse:0.025529\n",
      "[16]\ttrain-rmse:0.021629\n",
      "[17]\ttrain-rmse:0.01954\n",
      "[18]\ttrain-rmse:0.018777\n",
      "[19]\ttrain-rmse:0.017898\n"
     ]
    }
   ],
   "source": [
    "param = {'bst:booster': 'gbtree', \n",
    "         'bst:objective': 'multi:softmax',\n",
    "         'bst:num_class': 3,          \n",
    "         'bst:max_depth': 5,\n",
    "         'bst:learning_rate': 0.03,\n",
    "         'bst:n_estimators': 500, \n",
    "         'bst:min_child_weight': 5,\n",
    "         'bst:subsample': 0.7,\n",
    "        'bst:colsample_bytree': 0.5,\n",
    "         'bst:scale_pos_weight': 1,\n",
    "         'bst:eta':1,'bst:silent':1,\n",
    "         'bst:reg_alpha':0,'bst:reg_lambda':1,\n",
    "         'bst:max_delta_step':0, \n",
    "         'bst:gamma':0,\n",
    "         'bst:colsample_bytree':1,\n",
    "         'bst:scale_pos_weight':1,\n",
    "        'bst:silent':0 ,\n",
    "         'bst:nthread':4,\n",
    "         'bst:seed':2500\n",
    "}\n",
    "\n",
    "# param = best_parameters\n",
    "\n",
    "evallist  = [(dtrain,'train')]\n",
    "num = 20\n",
    "bst = xgb.train(param, dtrain,num,evallist,early_stopping_rounds=5)"
   ]
  },
  {
   "cell_type": "code",
   "execution_count": 59,
   "metadata": {
    "colab": {
     "base_uri": "https://localhost:8080/",
     "height": 153
    },
    "colab_type": "code",
    "id": "rVcGazVJ8nO9",
    "outputId": "b64c1250-1994-43ee-c99e-2ef247d5d32b"
   },
   "outputs": [
    {
     "data": {
      "text/plain": [
       "XGBClassifier(base_score=0.5, booster='gbtree', colsample_bylevel=1,\n",
       "              colsample_bynode=1, colsample_bytree=0.5, eta=1, gamma=0,\n",
       "              learning_rate=0.03, max_delta_step=0, max_depth=5,\n",
       "              min_child_weight=5, missing=None, n_estimators=500, n_jobs=1,\n",
       "              nthread=4, num_class=3, objective='multi:softprob',\n",
       "              random_state=0, reg_alpha=0, reg_lambda=1, sample_bytree=1,\n",
       "              scale_pos_weight=1, seed=2500, silent=1, subsample=0.7,\n",
       "              verbosity=1)"
      ]
     },
     "execution_count": 59,
     "metadata": {},
     "output_type": "execute_result"
    }
   ],
   "source": [
    "model = XGBClassifier(objective= 'multi:softmax',\n",
    "         num_class=3,          \n",
    "         max_depth= 5,\n",
    "         learning_rate=0.03,\n",
    "         n_estimators= 500, \n",
    "         min_child_weight= 5,\n",
    "         subsample=0.7,\n",
    "         colsample_bytree=0.5,\n",
    "         scale_pos_weight=1,\n",
    "         eta=1,\n",
    "         silent=1,\n",
    "         reg_alpha=0,\n",
    "         reg_lambda=1,\n",
    "         max_delta_step=0, \n",
    "         gamma=0,\n",
    "         sample_bytree=1,\n",
    "         nthread=4,\n",
    "         seed=2500)\n",
    "model.fit(X_train,y_train)"
   ]
  },
  {
   "cell_type": "code",
   "execution_count": 60,
   "metadata": {
    "colab": {
     "base_uri": "https://localhost:8080/",
     "height": 204
    },
    "colab_type": "code",
    "id": "Y5ZOzspQ8nXZ",
    "outputId": "2282bd93-9243-420e-b312-1977af1735f8"
   },
   "outputs": [
    {
     "data": {
      "text/html": [
       "<div>\n",
       "<style scoped>\n",
       "    .dataframe tbody tr th:only-of-type {\n",
       "        vertical-align: middle;\n",
       "    }\n",
       "\n",
       "    .dataframe tbody tr th {\n",
       "        vertical-align: top;\n",
       "    }\n",
       "\n",
       "    .dataframe thead th {\n",
       "        text-align: right;\n",
       "    }\n",
       "</style>\n",
       "<table border=\"1\" class=\"dataframe\">\n",
       "  <thead>\n",
       "    <tr style=\"text-align: right;\">\n",
       "      <th></th>\n",
       "      <th>feature_names</th>\n",
       "      <th>feature_importance</th>\n",
       "    </tr>\n",
       "  </thead>\n",
       "  <tbody>\n",
       "    <tr>\n",
       "      <td>7</td>\n",
       "      <td>成交股數</td>\n",
       "      <td>0.189438</td>\n",
       "    </tr>\n",
       "    <tr>\n",
       "      <td>9</td>\n",
       "      <td>開盤價</td>\n",
       "      <td>0.129955</td>\n",
       "    </tr>\n",
       "    <tr>\n",
       "      <td>8</td>\n",
       "      <td>成交金額</td>\n",
       "      <td>0.113514</td>\n",
       "    </tr>\n",
       "    <tr>\n",
       "      <td>1</td>\n",
       "      <td>month</td>\n",
       "      <td>0.108745</td>\n",
       "    </tr>\n",
       "    <tr>\n",
       "      <td>10</td>\n",
       "      <td>最高價</td>\n",
       "      <td>0.103225</td>\n",
       "    </tr>\n",
       "  </tbody>\n",
       "</table>\n",
       "</div>"
      ],
      "text/plain": [
       "   feature_names  feature_importance\n",
       "7           成交股數            0.189438\n",
       "9            開盤價            0.129955\n",
       "8           成交金額            0.113514\n",
       "1          month            0.108745\n",
       "10           最高價            0.103225"
      ]
     },
     "execution_count": 60,
     "metadata": {},
     "output_type": "execute_result"
    }
   ],
   "source": [
    "import matplotlib.pyplot as plt\n",
    "from matplotlib import font_manager\n",
    "from matplotlib.font_manager import FontProperties\n",
    "\n",
    "x = model.feature_importances_\n",
    "y = bst.feature_names\n",
    "feature_importance =  pd.DataFrame(x,y).reset_index()\n",
    "feature_importance.columns = ['feature_names','feature_importance']\n",
    "feature_importance = feature_importance.sort_values('feature_importance',ascending=False)\n",
    "feature_importance.head()"
   ]
  },
  {
   "cell_type": "markdown",
   "metadata": {
    "colab_type": "text",
    "id": "3kMn3eXq61G0"
   },
   "source": [
    "把機率轉為類別"
   ]
  },
  {
   "cell_type": "code",
   "execution_count": 61,
   "metadata": {
    "colab": {},
    "colab_type": "code",
    "id": "C4mq6Nmt61G1"
   },
   "outputs": [],
   "source": [
    "yprob = bst.predict(dtest)\n",
    "ypred = np.zeros(len(yprob))\n",
    "\n",
    "for index,element in enumerate(yprob):\n",
    "    \n",
    "    if element < -0.5:\n",
    "        ypred[index] = -1\n",
    "    elif -0.5 < element < 0.5:\n",
    "        ypred[index] = 0\n",
    "    elif element > 0.5:\n",
    "        ypred[index] = 1\n",
    "        "
   ]
  },
  {
   "cell_type": "markdown",
   "metadata": {
    "colab_type": "text",
    "id": "4pvjIQn561HB"
   },
   "source": [
    "輸出正確率"
   ]
  },
  {
   "cell_type": "code",
   "execution_count": 62,
   "metadata": {
    "colab": {
     "base_uri": "https://localhost:8080/",
     "height": 34
    },
    "colab_type": "code",
    "id": "SH_DhvbO61HC",
    "outputId": "d0e9a560-4527-4da6-f9ed-8270fb1afcca"
   },
   "outputs": [
    {
     "name": "stdout",
     "output_type": "stream",
     "text": [
      "<function accuracy_score at 0x1a258b5290> : 0.9994813278008299\n"
     ]
    }
   ],
   "source": [
    "print(f'{accuracy_score} : {accuracy_score(y_test, ypred)}')\n"
   ]
  },
  {
   "cell_type": "code",
   "execution_count": 66,
   "metadata": {},
   "outputs": [
    {
     "data": {
      "text/plain": [
       "(array([   5,   14,   87,   93,   95,  151,  155,  255,  262,  272,  278,\n",
       "         307,  324,  341,  388,  448,  455,  473,  493,  499,  502,  524,\n",
       "         527,  567,  587,  601,  630,  639,  676,  686,  687,  708,  716,\n",
       "         755,  800,  802,  843,  845,  854,  880,  885,  889,  912,  975,\n",
       "         979,  991,  994, 1001, 1068, 1090, 1102, 1116, 1157, 1158, 1176,\n",
       "        1188, 1201, 1208, 1218, 1228, 1265, 1268, 1271, 1321, 1324, 1366,\n",
       "        1412, 1447, 1473, 1479, 1501, 1504, 1561, 1569, 1603, 1645, 1675,\n",
       "        1689, 1700, 1706, 1743, 1765, 1768, 1771, 1790, 1799, 1800, 1804,\n",
       "        1870, 1876, 1878, 1880, 1896, 1908]),)"
      ]
     },
     "execution_count": 66,
     "metadata": {},
     "output_type": "execute_result"
    }
   ],
   "source": [
    "np.where(ypred==-1)"
   ]
  },
  {
   "cell_type": "markdown",
   "metadata": {
    "colab_type": "text",
    "id": "nI37J-lJK87l"
   },
   "source": [
    "來看看是哪個特徵影響最大呢？"
   ]
  },
  {
   "cell_type": "code",
   "execution_count": 72,
   "metadata": {
    "colab": {
     "base_uri": "https://localhost:8080/",
     "height": 1000
    },
    "colab_type": "code",
    "id": "Yhj5VtUz8CrH",
    "outputId": "a3bd205b-1cd7-461b-8a8f-4f450ba8484e"
   },
   "outputs": [
    {
     "data": {
      "text/plain": [
       "Text(0.5, 1.0, 'Feature importance')"
      ]
     },
     "execution_count": 72,
     "metadata": {},
     "output_type": "execute_result"
    },
    {
     "data": {
      "image/png": "[encoded data removed]",
      "text/plain": [
       "<Figure size 1080x360 with 1 Axes>"
      ]
     },
     "metadata": {
      "needs_background": "light"
     },
     "output_type": "display_data"
    }
   ],
   "source": [
    "from matplotlib.font_manager import FontProperties\n",
    "font = FontProperties(fname='/Library/Frameworks/Python.framework/Versions/3.6/lib/python3.6/site-packages/matplotlib/mpl-data/fonts/ttf/SimHei.ttf')\n",
    "fig = plt.figure(figsize=(15, 5))\n",
    "plt.xticks(range(10), feature_importance.iloc[:10,0],rotation=-45,fontproperties=font,fontsize=14)\n",
    "plt.bar(feature_importance.iloc[:10,0],feature_importance.iloc[:10,1])\n",
    "plt.title('Feature importance', fontsize=14)\n"
   ]
  },
  {
   "cell_type": "code",
   "execution_count": null,
   "metadata": {},
   "outputs": [],
   "source": []
  },
  {
   "cell_type": "code",
   "execution_count": null,
   "metadata": {},
   "outputs": [],
   "source": []
  },
  {
   "cell_type": "code",
   "execution_count": null,
   "metadata": {},
   "outputs": [],
   "source": []
  },
  {
   "cell_type": "code",
   "execution_count": null,
   "metadata": {},
   "outputs": [],
   "source": []
  },
  {
   "cell_type": "code",
   "execution_count": 22,
   "metadata": {
    "colab": {
     "base_uri": "https://localhost:8080/",
     "height": 202
    },
    "colab_type": "code",
    "id": "0P21xNAz61HG",
    "outputId": "d7d3242f-453f-49f4-827c-c678dbc89001"
   },
   "outputs": [
    {
     "ename": "NameError",
     "evalue": "ignored",
     "output_type": "error",
     "traceback": [
      "\u001b[0;31m---------------------------------------------------------------------------\u001b[0m",
      "\u001b[0;31mNameError\u001b[0m                                 Traceback (most recent call last)",
      "\u001b[0;32m<ipython-input-22-ce7cb140020d>\u001b[0m in \u001b[0;36m<module>\u001b[0;34m()\u001b[0m\n\u001b[1;32m      9\u001b[0m \u001b[0;34m\u001b[0m\u001b[0m\n\u001b[1;32m     10\u001b[0m \u001b[0;34m\u001b[0m\u001b[0m\n\u001b[0;32m---> 11\u001b[0;31m \u001b[0mplot_importance\u001b[0m\u001b[0;34m(\u001b[0m\u001b[0mbst\u001b[0m\u001b[0;34m,\u001b[0m\u001b[0mfontproperties\u001b[0m \u001b[0;34m=\u001b[0m \u001b[0mfont\u001b[0m\u001b[0;34m)\u001b[0m\u001b[0;34m\u001b[0m\u001b[0;34m\u001b[0m\u001b[0m\n\u001b[0m",
      "\u001b[0;31mNameError\u001b[0m: name 'plot_importance' is not defined"
     ]
    }
   ],
   "source": [
    "# from xgboost import plot_importance\n",
    "# from pylab import mpl\n",
    "import matplotlib\n",
    "# 指定默认字体\n",
    "# matplotlib.rcParams['font.sans-serif'] = ['SimHei']\n",
    "# matplotlib.rcParams['font.family'] ='sans-serif'\n",
    "# # 解决负号'-'显示为方块的问题\n",
    "# matplotlib.rcParams['axes.unicode_minus'] = False\n",
    "from matplotlib.font_manager import _rebuild\n",
    "from \n",
    "# _rebuild() #reload一下\n",
    "\n",
    "\n",
    "plot_importance(bst,fontproperties = font)\n"
   ]
  },
  {
   "cell_type": "code",
   "execution_count": 0,
   "metadata": {
    "colab": {},
    "colab_type": "code",
    "id": "H2WhxhgZlA1Q"
   },
   "outputs": [],
   "source": [
    "# from matplotlib.font_manager import _rebuild\n",
    "import matplotlib\n",
    "from glob import glob\n",
    "import os\n",
    "\n",
    "dir_cache = matplotlib.get_cachedir()\n",
    "for file in glob(f'{dir_cache}/*.cache') + glob(f'{dir_cache}/font*'):\n",
    "    if not os.path.isdir(file): # don't dump the tex.cache folder... because dunno why\n",
    "        os.remove(file)\n",
    "        print(f'Deleted font cache {file}.')"
   ]
  },
  {
   "cell_type": "code",
   "execution_count": 0,
   "metadata": {
    "colab": {
     "base_uri": "https://localhost:8080/",
     "height": 969
    },
    "colab_type": "code",
    "id": "G1NDL0HopMxU",
    "outputId": "581f80c3-f271-472e-af5a-b6224aa6cc3b"
   },
   "outputs": [
    {
     "name": "stdout",
     "output_type": "stream",
     "text": [
      "DejaVu Sans\n",
      "DejaVu Sans\n",
      "DejaVu Sans\n",
      "DejaVu Sans\n",
      "DejaVu Sans Display\n",
      "DejaVu Sans Mono\n",
      "DejaVu Sans Mono\n",
      "DejaVu Sans Mono\n",
      "DejaVu Sans Mono\n",
      "DejaVu Serif\n",
      "DejaVu Serif\n",
      "DejaVu Serif\n",
      "DejaVu Serif\n",
      "DejaVu Serif Display\n",
      "FontAwesome\n",
      "FontAwesome\n",
      "Liberation Mono\n",
      "Liberation Mono\n",
      "Liberation Mono\n",
      "Liberation Mono\n",
      "Liberation Sans\n",
      "Liberation Sans\n",
      "Liberation Sans\n",
      "Liberation Sans\n",
      "Liberation Sans Narrow\n",
      "Liberation Sans Narrow\n",
      "Liberation Sans Narrow\n",
      "Liberation Sans Narrow\n",
      "Liberation Serif\n",
      "Liberation Serif\n",
      "Liberation Serif\n",
      "Liberation Serif\n",
      "STIXGeneral\n",
      "STIXGeneral\n",
      "STIXGeneral\n",
      "STIXGeneral\n",
      "STIXNonUnicode\n",
      "STIXNonUnicode\n",
      "STIXNonUnicode\n",
      "STIXNonUnicode\n",
      "STIXSizeFiveSym\n",
      "STIXSizeFourSym\n",
      "STIXSizeFourSym\n",
      "STIXSizeOneSym\n",
      "STIXSizeOneSym\n",
      "STIXSizeThreeSym\n",
      "STIXSizeThreeSym\n",
      "STIXSizeTwoSym\n",
      "STIXSizeTwoSym\n",
      "cmb10\n",
      "cmex10\n",
      "cmmi10\n",
      "cmr10\n",
      "cmss10\n",
      "cmsy10\n",
      "cmtt10\n"
     ]
    }
   ],
   "source": [
    "a = sorted([f.name for f in matplotlib.font_manager.fontManager.ttflist])\n",
    "\n",
    "for i in a:\n",
    "    print(i)"
   ]
  },
  {
   "cell_type": "code",
   "execution_count": 0,
   "metadata": {
    "colab": {
     "base_uri": "https://localhost:8080/",
     "height": 293
    },
    "colab_type": "code",
    "id": "4XWK4Vcio88s",
    "outputId": "e4d782e5-3cd6-4761-e97e-4ea2756f9c3c"
   },
   "outputs": [
    {
     "data": {
      "image/png": "[encoded data removed]",
      "text/plain": [
       "<Figure size 432x288 with 1 Axes>"
      ]
     },
     "metadata": {
      "tags": []
     },
     "output_type": "display_data"
    }
   ],
   "source": [
    "from matplotlib.font_manager import _rebuild\n",
    "# _rebuild()\n",
    "\n",
    "import matplotlib.pyplot as plt\n",
    "from matplotlib import font_manager\n",
    "from matplotlib.font_manager import FontProperties\n",
    "\n",
    "font = FontProperties(fname='/content/gdrive/My Drive/RLSD期末報告/SimHei.ttf')\n",
    "\n",
    "\n",
    "plt.xlabel('我想看中文',fontproperties = font)\n",
    "plt.ylabel('安安',fontproperties = font)\n",
    "plt.title('守三好帥',fontproperties = font)\n",
    "plt.show()\n",
    "\n"
   ]
  },
  {
   "cell_type": "code",
   "execution_count": 0,
   "metadata": {
    "colab": {
     "base_uri": "https://localhost:8080/",
     "height": 134
    },
    "colab_type": "code",
    "id": "A5XSSCwSLnE3",
    "outputId": "dcf0b4c7-117c-4e9c-f987-418f50306d7c"
   },
   "outputs": [
    {
     "ename": "SyntaxError",
     "evalue": "ignored",
     "output_type": "error",
     "traceback": [
      "\u001b[0;36m  File \u001b[0;32m\"<ipython-input-20-b47ca4aba3cb>\"\u001b[0;36m, line \u001b[0;32m1\u001b[0m\n\u001b[0;31m    col =\u001b[0m\n\u001b[0m          ^\u001b[0m\n\u001b[0;31mSyntaxError\u001b[0m\u001b[0;31m:\u001b[0m invalid syntax\n"
     ]
    }
   ],
   "source": [
    "col = \n",
    "plt.figure(figsize=(15, 5))\n",
    "plt.bar(range(len(cols)), model.feature_importances_)\n",
    "plt.xticks(range(len(cols)), cols, rotation=-45, fontsize=14)\n",
    "plt.title('Feature importance', fontsize=14)"
   ]
  },
  {
   "cell_type": "code",
   "execution_count": 0,
   "metadata": {
    "colab": {},
    "colab_type": "code",
    "id": "ixjVfpRxLnNg"
   },
   "outputs": [],
   "source": []
  },
  {
   "cell_type": "code",
   "execution_count": 0,
   "metadata": {
    "colab": {},
    "colab_type": "code",
    "id": "yHBiuMoLLnK8"
   },
   "outputs": [],
   "source": []
  },
  {
   "cell_type": "code",
   "execution_count": 0,
   "metadata": {
    "colab": {},
    "colab_type": "code",
    "id": "Hn5eecguLnIP"
   },
   "outputs": [],
   "source": []
  }
 ],
 "metadata": {
  "accelerator": "GPU",
  "colab": {
   "name": "D_建立模型_XGBoost.ipynb",
   "provenance": []
  },
  "kernelspec": {
   "display_name": "Python 3",
   "language": "python",
   "name": "python3"
  },
  "language_info": {
   "codemirror_mode": {
    "name": "ipython",
    "version": 3
   },
   "file_extension": ".py",
   "mimetype": "text/x-python",
   "name": "python",
   "nbconvert_exporter": "python",
   "pygments_lexer": "ipython3",
   "version": "3.7.4"
  }
 },
 "nbformat": 4,
 "nbformat_minor": 1
}
