{
 "cells": [
  {
   "cell_type": "markdown",
   "metadata": {},
   "source": [
    "爬蟲下來的原始檔被切的一格一格的，用concatallfile把他們重新輸出成完好的csv"
   ]
  },
  {
   "cell_type": "code",
   "execution_count": 86,
   "metadata": {},
   "outputs": [],
   "source": [
    "import pandas as pd"
   ]
  },
  {
   "cell_type": "code",
   "execution_count": 87,
   "metadata": {},
   "outputs": [],
   "source": [
    "def concatallfile(company_name,filenumber):\n",
    "    company = pd.DataFrame()\n",
    "    for num in range(1,filenumber+1):\n",
    "        filename = '/Users/liaoshousan/Desktop/大四上/R語言與資料科學導論/Final_PROJECT-StockPrice Prediction/爬蟲爬下來的原始新聞/'+company_name+'/Rdata'+str(num)+'.csv'\n",
    "        temp_df = pd.read_csv(filename)\n",
    "        company = pd.concat([company,temp_df],axis = 0)\n",
    "    \n",
    "    return company"
   ]
  },
  {
   "cell_type": "code",
   "execution_count": 88,
   "metadata": {},
   "outputs": [],
   "source": [
    "Foxconn = concatallfile(company_name='爬蟲_鴻海新聞',filenumber=11)\n",
    "TSMC = concatallfile(company_name='爬蟲_台積電新聞',filenumber=8)\n",
    "LARGAN = concatallfile(company_name='爬蟲_大立光新聞',filenumber=5)\n",
    "\n",
    "Foxconn.to_csv('/Users/liaoshousan/Desktop/大四上/R語言與資料科學導論/Final_PROJECT-StockPrice Prediction/合併後的新聞/Foxconn.csv',index = None)\n",
    "TSMC.to_csv('/Users/liaoshousan/Desktop/大四上/R語言與資料科學導論/Final_PROJECT-StockPrice Prediction/合併後的新聞/TSMC.csv',index = None)\n",
    "LARGAN.to_csv('/Users/liaoshousan/Desktop/大四上/R語言與資料科學導論/Final_PROJECT-StockPrice Prediction/合併後的新聞/LARGAN.csv',index = None)\n"
   ]
  },
  {
   "cell_type": "markdown",
   "metadata": {},
   "source": [
    "讀取檔案"
   ]
  },
  {
   "cell_type": "code",
   "execution_count": 89,
   "metadata": {},
   "outputs": [],
   "source": [
    "Foxconn = pd.read_csv('/Users/liaoshousan/Desktop/大四上/R語言與資料科學導論/Final_PROJECT-StockPrice Prediction/合併後的新聞/Foxconn.csv')\n",
    "TSMC = pd.read_csv('/Users/liaoshousan/Desktop/大四上/R語言與資料科學導論/Final_PROJECT-StockPrice Prediction/合併後的新聞/TSMC.csv')\n",
    "LARGAN = pd.read_csv('/Users/liaoshousan/Desktop/大四上/R語言與資料科學導論/Final_PROJECT-StockPrice Prediction/合併後的新聞/LARGAN.csv')\n",
    "                     \n",
    "                     "
   ]
  },
  {
   "cell_type": "markdown",
   "metadata": {},
   "source": [
    "把日期轉成datetime格式"
   ]
  },
  {
   "cell_type": "code",
   "execution_count": 90,
   "metadata": {},
   "outputs": [],
   "source": [
    "def datetime_convert(df):\n",
    "    from datetime import datetime\n",
    "    df['TIME'] = df['TIME'].apply(lambda x:datetime.strptime(x, \"%Y/%m/%d %H:%M\"))\n",
    "    df['TIME'] = df['TIME'].apply(lambda x:x.replace(hour=0, minute=0, second=0, microsecond=0))\n",
    "\n",
    "    return df"
   ]
  },
  {
   "cell_type": "code",
   "execution_count": 91,
   "metadata": {},
   "outputs": [],
   "source": [
    "Foxconn = datetime_convert(Foxconn)\n",
    "TSMC = datetime_convert(TSMC)\n",
    "LARGAN = datetime_convert(LARGAN)"
   ]
  },
  {
   "cell_type": "markdown",
   "metadata": {},
   "source": [
    "把不要的欄位去掉"
   ]
  },
  {
   "cell_type": "code",
   "execution_count": 92,
   "metadata": {},
   "outputs": [],
   "source": [
    "def remove_redundant(df):\n",
    "    content = ['TITLE','TIME','DESCRIPTION','CONTENT']\n",
    "    df = df[content]\n",
    "    \n",
    "    return df"
   ]
  },
  {
   "cell_type": "code",
   "execution_count": 93,
   "metadata": {},
   "outputs": [],
   "source": [
    "Foxconn = remove_redundant(Foxconn)\n",
    "TSMC = remove_redundant(TSMC)\n",
    "LARGAN = remove_redundant(LARGAN)"
   ]
  },
  {
   "cell_type": "markdown",
   "metadata": {},
   "source": [
    "將日期作切割，分為\"年\",\"月\",\"日\",\"時\"\n"
   ]
  },
  {
   "cell_type": "code",
   "execution_count": 94,
   "metadata": {},
   "outputs": [],
   "source": [
    "def extract_datetime(df,col):\n",
    "    df['year'] = df[col].apply(lambda x:x.year)\n",
    "    df['month'] = df[col].apply(lambda x:x.month)\n",
    "    df['day'] = df[col].apply(lambda x:x.day)\n",
    "    df['hour'] = df[col].apply(lambda x:x.hour)\n",
    "    return df"
   ]
  },
  {
   "cell_type": "code",
   "execution_count": 95,
   "metadata": {},
   "outputs": [],
   "source": [
    "TSMC = extract_datetime(TSMC,'TIME')\n",
    "Foxconn = extract_datetime(Foxconn,'TIME')\n",
    "LARGAN = extract_datetime(LARGAN,'TIME')"
   ]
  },
  {
   "cell_type": "markdown",
   "metadata": {},
   "source": [
    "## 選出漲跌幅超過2%的日期，提出他前兩日的新聞"
   ]
  },
  {
   "cell_type": "code",
   "execution_count": 96,
   "metadata": {},
   "outputs": [],
   "source": [
    "#呼叫股票的csv\n",
    "Foxconn_price = pd.read_csv('/Users/liaoshousan/Desktop/大四上/R語言與資料科學導論/Final_PROJECT-StockPrice Prediction/股價資料/2317_鴻海.csv')\n",
    "TSMC_price = pd.read_csv('/Users/liaoshousan/Desktop/大四上/R語言與資料科學導論/Final_PROJECT-StockPrice Prediction/股價資料/2330_台積電.csv')\n",
    "LARGAN_price = pd.read_csv('/Users/liaoshousan/Desktop/大四上/R語言與資料科學導論/Final_PROJECT-StockPrice Prediction/股價資料/3008_大立光.csv')\n"
   ]
  },
  {
   "cell_type": "markdown",
   "metadata": {},
   "source": [
    "處理股價日期較為麻煩，因為他是以民國開頭，因此要先將民國轉換為西元，才可用datetime"
   ]
  },
  {
   "cell_type": "code",
   "execution_count": 97,
   "metadata": {},
   "outputs": [],
   "source": [
    "#只要把日期的/去掉，轉成int，再加上19110000，就是西元了\n",
    "def convert_minguo(df,colname):\n",
    "    \n",
    "    from datetime import datetime\n",
    "    df[colname] = df[colname].apply(lambda x:x.split('/'))\n",
    "    df[colname] = df[colname].apply(lambda x:''.join(x))\n",
    "    df[colname] = df[colname].apply(lambda x:int(x))\n",
    "    df[colname] = df[colname].apply(lambda x:x+19110000)\n",
    "    df[colname] = df[colname].apply(lambda x:datetime.strptime(str(x), \"%Y%m%d\"))\n",
    "\n",
    "    return df\n",
    "\n"
   ]
  },
  {
   "cell_type": "code",
   "execution_count": 98,
   "metadata": {},
   "outputs": [],
   "source": [
    "TSMC_price = convert_minguo(TSMC_price,'日期')\n",
    "Foxconn_price = convert_minguo(Foxconn_price,'日期') \n",
    "LARGAN_price = convert_minguo(LARGAN_price,'日期') "
   ]
  },
  {
   "cell_type": "markdown",
   "metadata": {},
   "source": [
    "由於有些欄位理應是numeric，卻因為含以\",\"被歸類為string，要把這些dtype修正"
   ]
  },
  {
   "cell_type": "code",
   "execution_count": 99,
   "metadata": {},
   "outputs": [],
   "source": [
    "# 把,拿掉\n",
    "def strip_comma(df,colist):\n",
    "    for col in colist:\n",
    "        if df[col].dtype=='object':\n",
    "            df[col] = df[col].apply(lambda x:x.replace(',','')).astype(float)\n",
    "    \n",
    "    return df\n",
    "    "
   ]
  },
  {
   "cell_type": "code",
   "execution_count": 100,
   "metadata": {},
   "outputs": [],
   "source": [
    "Foxconn_price = strip_comma(Foxconn_price,['成交股數','成交金額','開盤價','最高價','最低價','收盤價'])\n",
    "TSMC_price = strip_comma(TSMC_price,['成交股數','成交金額','開盤價','最高價','最低價','收盤價'])\n",
    "LARGAN_price = strip_comma(LARGAN_price,['成交股數','成交金額','開盤價','最高價','最低價','收盤價']) "
   ]
  },
  {
   "cell_type": "markdown",
   "metadata": {},
   "source": [
    "把每一天都標註是漲還是跌"
   ]
  },
  {
   "cell_type": "code",
   "execution_count": 101,
   "metadata": {},
   "outputs": [],
   "source": [
    "def find_up_down(df):\n",
    "    \n",
    "    status = []\n",
    "    for i in range(df.shape[0]):\n",
    "        if i==0:\n",
    "            status.append(0)\n",
    "        \n",
    "        elif df['收盤價'][i] > df['最高價'][i-1]*1.02:#如果前一日的最高價x1.02還比今日收盤價低，表示當日受前一日影響，漲價\n",
    "            status.append(1)\n",
    "        \n",
    "        elif df['收盤價'][i]*1.02 < df['最低價'][i-1]:  #如果當天的收盤價x1.02還是抵不過昨日的最高價 ，表示當日受前一日影響，跌價\n",
    "            status.append(-1)\n",
    "        else:\n",
    "            status.append(0)\n",
    "    df['status'] = status\n",
    "\n",
    "    return df"
   ]
  },
  {
   "cell_type": "code",
   "execution_count": 102,
   "metadata": {},
   "outputs": [],
   "source": [
    "Foxconn_price = find_up_down(Foxconn_price)\n",
    "TSMC_price = find_up_down(TSMC_price)\n",
    "LARGAN_price = find_up_down(LARGAN_price)"
   ]
  },
  {
   "cell_type": "markdown",
   "metadata": {},
   "source": [
    "\n",
    "挑出漲跌的那些日子"
   ]
  },
  {
   "cell_type": "code",
   "execution_count": 103,
   "metadata": {},
   "outputs": [],
   "source": [
    "'''\n",
    "前面已經提到，我們透過一些標準將每一天股市分成漲、跌、不漲不跌，現在我們希望把這些日期的標籤貼到新聞上\n",
    "賦予每篇新聞一個屬性(看漲新聞、看跌新聞、不漲不跌新聞)\n",
    "(Note:由於每天的開盤我們只會得到開盤日以前的新聞，\n",
    "因此假設11/10是上漲日，那麼我們會對11/9和11/8的文章貼上status=1標籤)\n",
    "'''\n",
    "\n",
    "def find_pos_neg_day(price_df,news_df):\n",
    "\n",
    "    from datetime import timedelta\n",
    "    \n",
    "    upday1 = list(price_df[price_df['status']==1]['日期'] - timedelta(days=1)) #當天股價上漲，表示前幾天的新聞一定有掛\n",
    "    upday2 = list(price_df[price_df['status']==1]['日期'] - timedelta(days=2))\n",
    "    upday = upday1 + upday2\n",
    "\n",
    "    downday1 = list(price_df[price_df['status']==-1]['日期'] - timedelta(days=1)) #當天股價下跌，表示前幾天的新聞一定有掛\n",
    "    downday2 = list(price_df[price_df['status']==-1]['日期'] - timedelta(days=2))\n",
    "    downday = downday1 + downday2 \n",
    "    news_df['status'] = news_df['TIME'].apply(lambda x:1 if x in upday else(-1 if x in downday else 0)) #為新聞貼上標籤\n",
    "\n",
    "    return news_df"
   ]
  },
  {
   "cell_type": "code",
   "execution_count": 104,
   "metadata": {},
   "outputs": [],
   "source": [
    "LARGAN = find_pos_neg_day(LARGAN_price, LARGAN) \n",
    "Foxconn = find_pos_neg_day(Foxconn_price, Foxconn)\n",
    "TSMC = find_pos_neg_day(TSMC_price, TSMC)\n"
   ]
  },
  {
   "cell_type": "markdown",
   "metadata": {},
   "source": [
    "輸出已經標記的新聞以及股價"
   ]
  },
  {
   "cell_type": "code",
   "execution_count": 113,
   "metadata": {},
   "outputs": [],
   "source": [
    "LARGAN.to_csv('/Users/liaoshousan/Desktop/大四上/R語言與資料科學導論/Final_PROJECT-StockPrice Prediction/已經標記的新聞/LARGAN_NEWS.csv',index = None)\n",
    "Foxconn.to_csv('/Users/liaoshousan/Desktop/大四上/R語言與資料科學導論/Final_PROJECT-StockPrice Prediction/已經標記的新聞/Foxconn_NEWS.csv',index = None)\n",
    "TSMC.to_csv('/Users/liaoshousan/Desktop/大四上/R語言與資料科學導論/Final_PROJECT-StockPrice Prediction/已經標記的新聞/TSMC_NEWS.csv',index = None)"
   ]
  },
  {
   "cell_type": "code",
   "execution_count": 115,
   "metadata": {},
   "outputs": [],
   "source": [
    "LARGAN_price.to_csv('/Users/liaoshousan/Desktop/大四上/R語言與資料科學導論/Final_PROJECT-StockPrice Prediction/已經標記的股價/LARGAN_Stock.csv',index = None)\n",
    "Foxconn_price.to_csv('/Users/liaoshousan/Desktop/大四上/R語言與資料科學導論/Final_PROJECT-StockPrice Prediction/已經標記的股價/Foxconn_Stock.csv',index = None)\n",
    "TSMC_price.to_csv('/Users/liaoshousan/Desktop/大四上/R語言與資料科學導論/Final_PROJECT-StockPrice Prediction/已經標記的股價/TSMC_Stock.csv',index = None)\n",
    "\n"
   ]
  },
  {
   "cell_type": "markdown",
   "metadata": {},
   "source": [
    "剩下的我們到下一個jieba.py在來提吧!"
   ]
  }
 ],
 "metadata": {
  "kernelspec": {
   "display_name": "Python 3",
   "language": "python",
   "name": "python3"
  },
  "language_info": {
   "codemirror_mode": {
    "name": "ipython",
    "version": 3
   },
   "file_extension": ".py",
   "mimetype": "text/x-python",
   "name": "python",
   "nbconvert_exporter": "python",
   "pygments_lexer": "ipython3",
   "version": "3.7.4"
  }
 },
 "nbformat": 4,
 "nbformat_minor": 2
}
