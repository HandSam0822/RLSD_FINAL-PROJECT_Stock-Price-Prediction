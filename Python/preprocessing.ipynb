{
 "cells": [
  {
   "cell_type": "code",
   "execution_count": 65,
   "metadata": {},
   "outputs": [],
   "source": [
    "import pandas as pd"
   ]
  },
  {
   "cell_type": "code",
   "execution_count": 69,
   "metadata": {},
   "outputs": [],
   "source": [
    "def concatallfile(company_name,filenumber):\n",
    "    company = pd.DataFrame()\n",
    "    for num in range(1,filenumber+1):\n",
    "        filename = '/Users/liaoshousan/Desktop/大四上/RLSD 期末專案/'+company_name+'/Rdata'+str(num)+'.csv'\n",
    "        temp_df = pd.read_csv(filename)\n",
    "        company = pd.concat([company,temp_df],axis = 0)\n",
    "    \n",
    "    return company"
   ]
  },
  {
   "cell_type": "code",
   "execution_count": 70,
   "metadata": {},
   "outputs": [],
   "source": [
    "Foxconn = concatallfile(company_name='鴻海新聞',filenumber=11)\n",
    "TSMC = concatallfile(company_name='台積電新聞',filenumber=8)\n",
    "LARGAN = concatallfile(company_name='大立光新聞',filenumber=5)\n",
    "\n",
    "Foxconn.to_csv('/Users/liaoshousan/Desktop/大四上/RLSD 期末專案/Foxconn.csv',index = None)\n",
    "TSMC.to_csv('/Users/liaoshousan/Desktop/大四上/RLSD 期末專案/TSMC.csv',index = None)\n",
    "LARGAN.to_csv('/Users/liaoshousan/Desktop/大四上/RLSD 期末專案/LARGAN.csv',index = None)"
   ]
  },
  {
   "cell_type": "markdown",
   "metadata": {},
   "source": [
    "讀取檔案"
   ]
  },
  {
   "cell_type": "code",
   "execution_count": 412,
   "metadata": {},
   "outputs": [],
   "source": [
    "Foxconn = pd.read_csv('/Users/liaoshousan/Desktop/大四上/RLSD 期末專案/Foxconn.csv')\n",
    "TSMC = pd.read_csv('/Users/liaoshousan/Desktop/大四上/RLSD 期末專案/TSMC.csv')\n",
    "LARGAN = pd.read_csv('/Users/liaoshousan/Desktop/大四上/RLSD 期末專案/LARGAN.csv')"
   ]
  },
  {
   "cell_type": "markdown",
   "metadata": {},
   "source": [
    "把日期轉成datetime格式"
   ]
  },
  {
   "cell_type": "code",
   "execution_count": 413,
   "metadata": {},
   "outputs": [],
   "source": [
    "def datetime_convert(df):\n",
    "    from datetime import datetime\n",
    "    df['TIME'] = df['TIME'].apply(lambda x:datetime.strptime(x, \"%Y/%m/%d %H:%M\"))\n",
    "    df['TIME'] = df['TIME'].apply(lambda x:x.replace(hour=0, minute=0, second=0, microsecond=0))\n",
    "\n",
    "    return df"
   ]
  },
  {
   "cell_type": "code",
   "execution_count": 414,
   "metadata": {},
   "outputs": [],
   "source": [
    "Foxconn = datetime_convert(Foxconn)\n",
    "TSMC = datetime_convert(TSMC)\n",
    "LARGAN = datetime_convert(LARGAN)"
   ]
  },
  {
   "cell_type": "markdown",
   "metadata": {},
   "source": [
    "把不要的欄位去掉"
   ]
  },
  {
   "cell_type": "code",
   "execution_count": 415,
   "metadata": {},
   "outputs": [],
   "source": [
    "def remove_redundant(df):\n",
    "    content = ['TITLE','TIME','DESCRIPTION','CONTENT']\n",
    "    df = df[content]\n",
    "    \n",
    "    return df"
   ]
  },
  {
   "cell_type": "code",
   "execution_count": 416,
   "metadata": {},
   "outputs": [],
   "source": [
    "Foxconn = remove_redundant(Foxconn)\n",
    "TSMC = remove_redundant(TSMC)\n",
    "LARGAN = remove_redundant(LARGAN)"
   ]
  },
  {
   "cell_type": "markdown",
   "metadata": {},
   "source": [
    "將日期作切割，分為\"年\",\"月\",\"日\",\"時\"\n"
   ]
  },
  {
   "cell_type": "code",
   "execution_count": 417,
   "metadata": {},
   "outputs": [],
   "source": [
    "def extract_datetime(df,col):\n",
    "    df['year'] = df[col].apply(lambda x:x.year)\n",
    "    df['month'] = df[col].apply(lambda x:x.month)\n",
    "    df['day'] = df[col].apply(lambda x:x.day)\n",
    "    df['hour'] = df[col].apply(lambda x:x.hour)\n",
    "    return df"
   ]
  },
  {
   "cell_type": "code",
   "execution_count": 418,
   "metadata": {},
   "outputs": [],
   "source": [
    "TSMC = extract_datetime(TSMC,'TIME')\n",
    "Foxconn = extract_datetime(Foxconn,'TIME')\n",
    "LARGAN = extract_datetime(LARGAN,'TIME')"
   ]
  },
  {
   "cell_type": "markdown",
   "metadata": {},
   "source": [
    "## 選出漲跌幅超過2%的日期，提出他前兩日的新聞"
   ]
  },
  {
   "cell_type": "code",
   "execution_count": 419,
   "metadata": {},
   "outputs": [],
   "source": [
    "#呼叫股票的csv\n",
    "Foxconn_price = pd.read_csv('/Users/liaoshousan/Desktop/大四上/RLSD 期末專案/2317_鴻海.csv')\n",
    "TSMC_price = pd.read_csv('/Users/liaoshousan/Desktop/大四上/RLSD 期末專案/2330_台積電.csv')\n",
    "LARGAN_price = pd.read_csv('/Users/liaoshousan/Desktop/大四上/RLSD 期末專案/3008_大立光.csv')\n"
   ]
  },
  {
   "cell_type": "code",
   "execution_count": 420,
   "metadata": {},
   "outputs": [
    {
     "data": {
      "text/html": [
       "<div>\n",
       "<style scoped>\n",
       "    .dataframe tbody tr th:only-of-type {\n",
       "        vertical-align: middle;\n",
       "    }\n",
       "\n",
       "    .dataframe tbody tr th {\n",
       "        vertical-align: top;\n",
       "    }\n",
       "\n",
       "    .dataframe thead th {\n",
       "        text-align: right;\n",
       "    }\n",
       "</style>\n",
       "<table border=\"1\" class=\"dataframe\">\n",
       "  <thead>\n",
       "    <tr style=\"text-align: right;\">\n",
       "      <th></th>\n",
       "      <th>日期</th>\n",
       "      <th>成交股數</th>\n",
       "      <th>成交金額</th>\n",
       "      <th>開盤價</th>\n",
       "      <th>最高價</th>\n",
       "      <th>最低價</th>\n",
       "      <th>收盤價</th>\n",
       "      <th>漲跌價差</th>\n",
       "      <th>成交筆數</th>\n",
       "    </tr>\n",
       "  </thead>\n",
       "  <tbody>\n",
       "    <tr>\n",
       "      <td>0</td>\n",
       "      <td>107/03/01</td>\n",
       "      <td>42,073,991</td>\n",
       "      <td>3,698,227,165</td>\n",
       "      <td>87.8</td>\n",
       "      <td>88.3</td>\n",
       "      <td>87.5</td>\n",
       "      <td>87.9</td>\n",
       "      <td>-0.2</td>\n",
       "      <td>16,467</td>\n",
       "    </tr>\n",
       "    <tr>\n",
       "      <td>1</td>\n",
       "      <td>107/03/02</td>\n",
       "      <td>28,180,553</td>\n",
       "      <td>2,461,227,316</td>\n",
       "      <td>87.2</td>\n",
       "      <td>87.8</td>\n",
       "      <td>87.0</td>\n",
       "      <td>87.8</td>\n",
       "      <td>-0.1</td>\n",
       "      <td>13,846</td>\n",
       "    </tr>\n",
       "    <tr>\n",
       "      <td>2</td>\n",
       "      <td>107/03/05</td>\n",
       "      <td>31,341,174</td>\n",
       "      <td>2,738,562,304</td>\n",
       "      <td>87.7</td>\n",
       "      <td>88.1</td>\n",
       "      <td>87.0</td>\n",
       "      <td>87.0</td>\n",
       "      <td>-0.8</td>\n",
       "      <td>15,273</td>\n",
       "    </tr>\n",
       "    <tr>\n",
       "      <td>3</td>\n",
       "      <td>107/03/06</td>\n",
       "      <td>35,392,520</td>\n",
       "      <td>3,124,639,407</td>\n",
       "      <td>88.3</td>\n",
       "      <td>88.8</td>\n",
       "      <td>87.8</td>\n",
       "      <td>88.2</td>\n",
       "      <td>1.2</td>\n",
       "      <td>14,546</td>\n",
       "    </tr>\n",
       "    <tr>\n",
       "      <td>4</td>\n",
       "      <td>107/03/07</td>\n",
       "      <td>44,181,640</td>\n",
       "      <td>3,940,688,349</td>\n",
       "      <td>88.6</td>\n",
       "      <td>90.1</td>\n",
       "      <td>88.3</td>\n",
       "      <td>88.5</td>\n",
       "      <td>0.3</td>\n",
       "      <td>21,638</td>\n",
       "    </tr>\n",
       "    <tr>\n",
       "      <td>...</td>\n",
       "      <td>...</td>\n",
       "      <td>...</td>\n",
       "      <td>...</td>\n",
       "      <td>...</td>\n",
       "      <td>...</td>\n",
       "      <td>...</td>\n",
       "      <td>...</td>\n",
       "      <td>...</td>\n",
       "      <td>...</td>\n",
       "    </tr>\n",
       "    <tr>\n",
       "      <td>505</td>\n",
       "      <td>108/10/25</td>\n",
       "      <td>35,866,261</td>\n",
       "      <td>2,871,800,127</td>\n",
       "      <td>80.7</td>\n",
       "      <td>80.7</td>\n",
       "      <td>79.6</td>\n",
       "      <td>80.2</td>\n",
       "      <td>-0.3</td>\n",
       "      <td>14,070</td>\n",
       "    </tr>\n",
       "    <tr>\n",
       "      <td>506</td>\n",
       "      <td>108/10/28</td>\n",
       "      <td>24,589,303</td>\n",
       "      <td>1,976,884,140</td>\n",
       "      <td>80.5</td>\n",
       "      <td>80.8</td>\n",
       "      <td>80.0</td>\n",
       "      <td>80.1</td>\n",
       "      <td>-0.1</td>\n",
       "      <td>11,179</td>\n",
       "    </tr>\n",
       "    <tr>\n",
       "      <td>507</td>\n",
       "      <td>108/10/29</td>\n",
       "      <td>43,338,927</td>\n",
       "      <td>3,501,791,877</td>\n",
       "      <td>80.1</td>\n",
       "      <td>81.4</td>\n",
       "      <td>80.1</td>\n",
       "      <td>80.8</td>\n",
       "      <td>0.7</td>\n",
       "      <td>18,579</td>\n",
       "    </tr>\n",
       "    <tr>\n",
       "      <td>508</td>\n",
       "      <td>108/10/30</td>\n",
       "      <td>31,199,154</td>\n",
       "      <td>2,503,835,220</td>\n",
       "      <td>80.9</td>\n",
       "      <td>80.9</td>\n",
       "      <td>79.7</td>\n",
       "      <td>80.2</td>\n",
       "      <td>-0.6</td>\n",
       "      <td>12,486</td>\n",
       "    </tr>\n",
       "    <tr>\n",
       "      <td>509</td>\n",
       "      <td>108/10/31</td>\n",
       "      <td>39,615,853</td>\n",
       "      <td>3,205,652,611</td>\n",
       "      <td>81.0</td>\n",
       "      <td>81.4</td>\n",
       "      <td>80.6</td>\n",
       "      <td>80.6</td>\n",
       "      <td>0.4</td>\n",
       "      <td>15,447</td>\n",
       "    </tr>\n",
       "  </tbody>\n",
       "</table>\n",
       "<p>510 rows × 9 columns</p>\n",
       "</div>"
      ],
      "text/plain": [
       "            日期        成交股數           成交金額   開盤價   最高價   最低價   收盤價  漲跌價差  \\\n",
       "0    107/03/01  42,073,991  3,698,227,165  87.8  88.3  87.5  87.9  -0.2   \n",
       "1    107/03/02  28,180,553  2,461,227,316  87.2  87.8  87.0  87.8  -0.1   \n",
       "2    107/03/05  31,341,174  2,738,562,304  87.7  88.1  87.0  87.0  -0.8   \n",
       "3    107/03/06  35,392,520  3,124,639,407  88.3  88.8  87.8  88.2   1.2   \n",
       "4    107/03/07  44,181,640  3,940,688,349  88.6  90.1  88.3  88.5   0.3   \n",
       "..         ...         ...            ...   ...   ...   ...   ...   ...   \n",
       "505  108/10/25  35,866,261  2,871,800,127  80.7  80.7  79.6  80.2  -0.3   \n",
       "506  108/10/28  24,589,303  1,976,884,140  80.5  80.8  80.0  80.1  -0.1   \n",
       "507  108/10/29  43,338,927  3,501,791,877  80.1  81.4  80.1  80.8   0.7   \n",
       "508  108/10/30  31,199,154  2,503,835,220  80.9  80.9  79.7  80.2  -0.6   \n",
       "509  108/10/31  39,615,853  3,205,652,611  81.0  81.4  80.6  80.6   0.4   \n",
       "\n",
       "       成交筆數  \n",
       "0    16,467  \n",
       "1    13,846  \n",
       "2    15,273  \n",
       "3    14,546  \n",
       "4    21,638  \n",
       "..      ...  \n",
       "505  14,070  \n",
       "506  11,179  \n",
       "507  18,579  \n",
       "508  12,486  \n",
       "509  15,447  \n",
       "\n",
       "[510 rows x 9 columns]"
      ]
     },
     "execution_count": 420,
     "metadata": {},
     "output_type": "execute_result"
    }
   ],
   "source": [
    "Foxconn_price"
   ]
  },
  {
   "cell_type": "markdown",
   "metadata": {},
   "source": [
    "處理股價日期較為麻煩，因為他是以民國開頭，因此要先將民國轉換為西元，才可用datetime"
   ]
  },
  {
   "cell_type": "code",
   "execution_count": 421,
   "metadata": {},
   "outputs": [],
   "source": [
    "#只要把日期的/去掉，轉成int，再加上19110000，就是西元了\n",
    "def convert_minguo(df,colname):\n",
    "\n",
    "    df[colname] = df[colname].apply(lambda x:x.split('/'))\n",
    "    df[colname] = df[colname].apply(lambda x:''.join(x))\n",
    "    df[colname] = df[colname].apply(lambda x:int(x))\n",
    "    df[colname] = df[colname].apply(lambda x:x+19110000)\n",
    "    df[colname] = df[colname].apply(lambda x:datetime.strptime(str(x), \"%Y%m%d\"))\n",
    "\n",
    "    return df\n",
    "\n"
   ]
  },
  {
   "cell_type": "code",
   "execution_count": 422,
   "metadata": {},
   "outputs": [],
   "source": [
    "TSMC_price = convert_minguo(TSMC_price,'日期')\n",
    "Foxconn_price = convert_minguo(Foxconn_price,'日期') \n",
    "LARGAN_price = convert_minguo(LARGAN_price,'日期') "
   ]
  },
  {
   "cell_type": "markdown",
   "metadata": {},
   "source": [
    "由於有些欄位理應是numeric，卻因為含以\",\"被歸類為string，要把這些dtype修正"
   ]
  },
  {
   "cell_type": "code",
   "execution_count": 423,
   "metadata": {},
   "outputs": [],
   "source": [
    "# 把,拿掉\n",
    "def strip_comma(df,colist):\n",
    "    for col in colist:\n",
    "        if df[col].dtype=='object':\n",
    "            df[col] = df[col].apply(lambda x:x.replace(',','')).astype(float)\n",
    "    \n",
    "    return df\n",
    "    "
   ]
  },
  {
   "cell_type": "code",
   "execution_count": 424,
   "metadata": {},
   "outputs": [],
   "source": [
    "Foxconn_price = strip_comma(Foxconn_price,['成交股數','成交金額','開盤價','最高價','最低價','收盤價'])\n",
    "TSMC_price = strip_comma(TSMC_price,['成交股數','成交金額','開盤價','最高價','最低價','收盤價'])\n",
    "LARGAN_price = strip_comma(LARGAN_price,['成交股數','成交金額','開盤價','最高價','最低價','收盤價']) "
   ]
  },
  {
   "cell_type": "markdown",
   "metadata": {},
   "source": [
    "把每一天都標註是漲還是跌"
   ]
  },
  {
   "cell_type": "code",
   "execution_count": 425,
   "metadata": {},
   "outputs": [],
   "source": [
    "def find_up_down(df):\n",
    "    \n",
    "    status = []\n",
    "    for i in range(df.shape[0]):\n",
    "        if i==0:\n",
    "            status.append(0)\n",
    "        \n",
    "        elif df.iloc[i,6] > 1.02*df.iloc[i-1,4]:#如果當天的收盤價 > 前一日最高價，表示當日受前一日影響，漲價\n",
    "            status.append(1)\n",
    "        \n",
    "        elif df.iloc[i,4]*1.02 < df.iloc[i-1,6]:  #如果當天的收盤價 < 前一日最高價，表示當日受前一日影響，跌價\n",
    "            status.append(-1)\n",
    "        else:\n",
    "            status.append(0)\n",
    "    df['status'] = status\n",
    "\n",
    "    return df"
   ]
  },
  {
   "cell_type": "code",
   "execution_count": 426,
   "metadata": {},
   "outputs": [],
   "source": [
    "Foxconn_price = find_up_down(Foxconn_price)\n",
    "TSMC_price = find_up_down(TSMC_price)\n",
    "LARGAN_price = find_up_down(LARGAN_price)"
   ]
  },
  {
   "cell_type": "markdown",
   "metadata": {},
   "source": [
    "\n",
    "挑出漲跌的那些日子"
   ]
  },
  {
   "cell_type": "code",
   "execution_count": 444,
   "metadata": {},
   "outputs": [],
   "source": [
    "'''\n",
    "前面已經提到，我們透過一些標準將每一天股市分成漲、跌、不漲不跌，現在我們希望把這些日期的標籤貼到新聞上\n",
    "賦予每篇新聞一個屬性(看漲新聞、看跌新聞、不漲不跌新聞)\n",
    "(Note:由於每天的開盤我們只會得到開盤日以前的新聞，\n",
    "因此假設11/10是上漲日，那麼我們會對11/9和11/8的文章貼上status=1標籤)\n",
    "'''\n",
    "\n",
    "def find_pos_neg_day(price_df,news_df):\n",
    "\n",
    "    from datetime import timedelta\n",
    "    \n",
    "    upday1 = list(price_df[price_df['status']==1]['日期'] - timedelta(days=1)) #當天股價上漲，表示前幾天的新聞一定有掛\n",
    "    upday2 = list(price_df[price_df['status']==1]['日期'] - timedelta(days=2))\n",
    "    upday = upday1 + upday2\n",
    "\n",
    "    downday1 = list(price_df[price_df['status']==-1]['日期'] - timedelta(days=1)) #當天股價下跌，表示前幾天的新聞一定有掛\n",
    "    downday2 = list(price_df[price_df['status']==-1]['日期'] - timedelta(days=2))\n",
    "    downday = downday1 + downday2 \n",
    "    news_df['status'] = news_df['TIME'].apply(lambda x:1 if x in upday else(-1 if x in downday else 0)) #為新聞貼上標籤\n",
    "\n",
    "    return news_df"
   ]
  },
  {
   "cell_type": "code",
   "execution_count": 450,
   "metadata": {},
   "outputs": [],
   "source": [
    "LARGAN = find_pos_neg_day(LARGAN_price, LARGAN) \n",
    "Foxconn = find_pos_neg_day(Foxconn_price, Foxconn)\n",
    "TSMC = find_pos_neg_day(TSMC_price, TSMC)\n"
   ]
  },
  {
   "cell_type": "code",
   "execution_count": 453,
   "metadata": {},
   "outputs": [],
   "source": [
    "LARGAN.to_csv('/Users/liaoshousan/Desktop/大四上/RLSD 期末專案/大立光正負新聞.csv',index = None)\n",
    "Foxconn.to_csv('/Users/liaoshousan/Desktop/大四上/RLSD 期末專案/鴻海正負新聞.csv',index = None)\n",
    "TSMC.to_csv('/Users/liaoshousan/Desktop/大四上/RLSD 期末專案/台積電正負新聞.csv',index = None)"
   ]
  },
  {
   "cell_type": "markdown",
   "metadata": {},
   "source": [
    "剩下的我們到下一個jieba.py在來提吧!"
   ]
  }
 ],
 "metadata": {
  "kernelspec": {
   "display_name": "Python 3",
   "language": "python",
   "name": "python3"
  },
  "language_info": {
   "codemirror_mode": {
    "name": "ipython",
    "version": 3
   },
   "file_extension": ".py",
   "mimetype": "text/x-python",
   "name": "python",
   "nbconvert_exporter": "python",
   "pygments_lexer": "ipython3",
   "version": "3.7.4"
  }
 },
 "nbformat": 4,
 "nbformat_minor": 2
}
